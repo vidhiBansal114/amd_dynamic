{
 "cells": [
  {
   "cell_type": "code",
   "execution_count": 1,
   "id": "f1cdcc72",
   "metadata": {},
   "outputs": [],
   "source": [
    "import pandas as pd\n",
    "import numpy as np"
   ]
  },
  {
   "cell_type": "code",
   "execution_count": 2,
   "id": "6b3a4d87",
   "metadata": {},
   "outputs": [],
   "source": [
    "#df= pd.read_csv('feature_vectors_syscalls_frequency_5_Cat.csv')\n",
    "df=pd.read_csv('feature_vectors_syscallsbinders_frequency_5_Cat.csv')\n",
    "#df2=df2.drop(columns=['Class'])\n",
    "for i in range(0,11598):\n",
    "    if int(df.at[i,'Class'])<5:\n",
    "        df.at[i,'Class']=1\n",
    "    else:\n",
    "        df.at[i,'Class']=0\n",
    "#df = pd.concat([df, df2], axis=1)"
   ]
  },
  {
   "cell_type": "code",
   "execution_count": 3,
   "id": "6ead8968",
   "metadata": {},
   "outputs": [
    {
     "data": {
      "text/html": [
       "<div>\n",
       "<style scoped>\n",
       "    .dataframe tbody tr th:only-of-type {\n",
       "        vertical-align: middle;\n",
       "    }\n",
       "\n",
       "    .dataframe tbody tr th {\n",
       "        vertical-align: top;\n",
       "    }\n",
       "\n",
       "    .dataframe thead th {\n",
       "        text-align: right;\n",
       "    }\n",
       "</style>\n",
       "<table border=\"1\" class=\"dataframe\">\n",
       "  <thead>\n",
       "    <tr style=\"text-align: right;\">\n",
       "      <th></th>\n",
       "      <th>ACCESS_PERSONAL_INFO___</th>\n",
       "      <th>ALTER_PHONE_STATE___</th>\n",
       "      <th>ANTI_DEBUG_____</th>\n",
       "      <th>CREATE_FOLDER_____</th>\n",
       "      <th>CREATE_PROCESS`_____</th>\n",
       "      <th>CREATE_THREAD_____</th>\n",
       "      <th>DEVICE_ACCESS_____</th>\n",
       "      <th>EXECUTE_____</th>\n",
       "      <th>FS_ACCESS____</th>\n",
       "      <th>FS_ACCESS()____</th>\n",
       "      <th>...</th>\n",
       "      <th>updateServiceLocation</th>\n",
       "      <th>utimes</th>\n",
       "      <th>vfork</th>\n",
       "      <th>vibrate</th>\n",
       "      <th>vibratePattern</th>\n",
       "      <th>wait4</th>\n",
       "      <th>watchRotation</th>\n",
       "      <th>windowGainedFocus</th>\n",
       "      <th>write</th>\n",
       "      <th>writev</th>\n",
       "    </tr>\n",
       "  </thead>\n",
       "  <tbody>\n",
       "    <tr>\n",
       "      <th>0</th>\n",
       "      <td>1</td>\n",
       "      <td>0</td>\n",
       "      <td>0</td>\n",
       "      <td>3</td>\n",
       "      <td>0</td>\n",
       "      <td>14</td>\n",
       "      <td>2</td>\n",
       "      <td>0</td>\n",
       "      <td>3</td>\n",
       "      <td>0</td>\n",
       "      <td>...</td>\n",
       "      <td>0</td>\n",
       "      <td>0</td>\n",
       "      <td>0</td>\n",
       "      <td>0</td>\n",
       "      <td>0</td>\n",
       "      <td>0</td>\n",
       "      <td>0</td>\n",
       "      <td>0</td>\n",
       "      <td>37</td>\n",
       "      <td>10</td>\n",
       "    </tr>\n",
       "    <tr>\n",
       "      <th>1</th>\n",
       "      <td>3</td>\n",
       "      <td>0</td>\n",
       "      <td>0</td>\n",
       "      <td>6</td>\n",
       "      <td>0</td>\n",
       "      <td>42</td>\n",
       "      <td>91</td>\n",
       "      <td>0</td>\n",
       "      <td>32</td>\n",
       "      <td>0</td>\n",
       "      <td>...</td>\n",
       "      <td>0</td>\n",
       "      <td>0</td>\n",
       "      <td>0</td>\n",
       "      <td>0</td>\n",
       "      <td>0</td>\n",
       "      <td>0</td>\n",
       "      <td>0</td>\n",
       "      <td>2</td>\n",
       "      <td>2838</td>\n",
       "      <td>46</td>\n",
       "    </tr>\n",
       "    <tr>\n",
       "      <th>2</th>\n",
       "      <td>2</td>\n",
       "      <td>0</td>\n",
       "      <td>0</td>\n",
       "      <td>4</td>\n",
       "      <td>0</td>\n",
       "      <td>23</td>\n",
       "      <td>3</td>\n",
       "      <td>0</td>\n",
       "      <td>17</td>\n",
       "      <td>2</td>\n",
       "      <td>...</td>\n",
       "      <td>0</td>\n",
       "      <td>0</td>\n",
       "      <td>0</td>\n",
       "      <td>0</td>\n",
       "      <td>0</td>\n",
       "      <td>0</td>\n",
       "      <td>0</td>\n",
       "      <td>1</td>\n",
       "      <td>111</td>\n",
       "      <td>20</td>\n",
       "    </tr>\n",
       "    <tr>\n",
       "      <th>3</th>\n",
       "      <td>1</td>\n",
       "      <td>0</td>\n",
       "      <td>0</td>\n",
       "      <td>4</td>\n",
       "      <td>0</td>\n",
       "      <td>27</td>\n",
       "      <td>9</td>\n",
       "      <td>0</td>\n",
       "      <td>36</td>\n",
       "      <td>0</td>\n",
       "      <td>...</td>\n",
       "      <td>0</td>\n",
       "      <td>0</td>\n",
       "      <td>0</td>\n",
       "      <td>0</td>\n",
       "      <td>0</td>\n",
       "      <td>0</td>\n",
       "      <td>0</td>\n",
       "      <td>7</td>\n",
       "      <td>987</td>\n",
       "      <td>197</td>\n",
       "    </tr>\n",
       "    <tr>\n",
       "      <th>4</th>\n",
       "      <td>3</td>\n",
       "      <td>0</td>\n",
       "      <td>0</td>\n",
       "      <td>11</td>\n",
       "      <td>0</td>\n",
       "      <td>18</td>\n",
       "      <td>3</td>\n",
       "      <td>0</td>\n",
       "      <td>16</td>\n",
       "      <td>0</td>\n",
       "      <td>...</td>\n",
       "      <td>0</td>\n",
       "      <td>0</td>\n",
       "      <td>0</td>\n",
       "      <td>0</td>\n",
       "      <td>0</td>\n",
       "      <td>0</td>\n",
       "      <td>0</td>\n",
       "      <td>1</td>\n",
       "      <td>98</td>\n",
       "      <td>25</td>\n",
       "    </tr>\n",
       "    <tr>\n",
       "      <th>...</th>\n",
       "      <td>...</td>\n",
       "      <td>...</td>\n",
       "      <td>...</td>\n",
       "      <td>...</td>\n",
       "      <td>...</td>\n",
       "      <td>...</td>\n",
       "      <td>...</td>\n",
       "      <td>...</td>\n",
       "      <td>...</td>\n",
       "      <td>...</td>\n",
       "      <td>...</td>\n",
       "      <td>...</td>\n",
       "      <td>...</td>\n",
       "      <td>...</td>\n",
       "      <td>...</td>\n",
       "      <td>...</td>\n",
       "      <td>...</td>\n",
       "      <td>...</td>\n",
       "      <td>...</td>\n",
       "      <td>...</td>\n",
       "      <td>...</td>\n",
       "    </tr>\n",
       "    <tr>\n",
       "      <th>11593</th>\n",
       "      <td>2</td>\n",
       "      <td>0</td>\n",
       "      <td>0</td>\n",
       "      <td>11</td>\n",
       "      <td>0</td>\n",
       "      <td>61</td>\n",
       "      <td>13</td>\n",
       "      <td>0</td>\n",
       "      <td>66</td>\n",
       "      <td>17</td>\n",
       "      <td>...</td>\n",
       "      <td>0</td>\n",
       "      <td>0</td>\n",
       "      <td>0</td>\n",
       "      <td>0</td>\n",
       "      <td>0</td>\n",
       "      <td>0</td>\n",
       "      <td>0</td>\n",
       "      <td>10</td>\n",
       "      <td>2764</td>\n",
       "      <td>236</td>\n",
       "    </tr>\n",
       "    <tr>\n",
       "      <th>11594</th>\n",
       "      <td>6</td>\n",
       "      <td>0</td>\n",
       "      <td>0</td>\n",
       "      <td>10</td>\n",
       "      <td>1</td>\n",
       "      <td>69</td>\n",
       "      <td>50</td>\n",
       "      <td>1</td>\n",
       "      <td>118</td>\n",
       "      <td>15</td>\n",
       "      <td>...</td>\n",
       "      <td>0</td>\n",
       "      <td>0</td>\n",
       "      <td>0</td>\n",
       "      <td>0</td>\n",
       "      <td>0</td>\n",
       "      <td>1</td>\n",
       "      <td>0</td>\n",
       "      <td>5</td>\n",
       "      <td>4417</td>\n",
       "      <td>295</td>\n",
       "    </tr>\n",
       "    <tr>\n",
       "      <th>11595</th>\n",
       "      <td>0</td>\n",
       "      <td>0</td>\n",
       "      <td>0</td>\n",
       "      <td>0</td>\n",
       "      <td>0</td>\n",
       "      <td>21</td>\n",
       "      <td>16</td>\n",
       "      <td>0</td>\n",
       "      <td>48</td>\n",
       "      <td>9</td>\n",
       "      <td>...</td>\n",
       "      <td>0</td>\n",
       "      <td>0</td>\n",
       "      <td>0</td>\n",
       "      <td>0</td>\n",
       "      <td>0</td>\n",
       "      <td>0</td>\n",
       "      <td>0</td>\n",
       "      <td>5</td>\n",
       "      <td>241</td>\n",
       "      <td>67</td>\n",
       "    </tr>\n",
       "    <tr>\n",
       "      <th>11596</th>\n",
       "      <td>1</td>\n",
       "      <td>0</td>\n",
       "      <td>0</td>\n",
       "      <td>15</td>\n",
       "      <td>0</td>\n",
       "      <td>90</td>\n",
       "      <td>80</td>\n",
       "      <td>0</td>\n",
       "      <td>239</td>\n",
       "      <td>50</td>\n",
       "      <td>...</td>\n",
       "      <td>0</td>\n",
       "      <td>0</td>\n",
       "      <td>0</td>\n",
       "      <td>0</td>\n",
       "      <td>0</td>\n",
       "      <td>0</td>\n",
       "      <td>0</td>\n",
       "      <td>3</td>\n",
       "      <td>1703</td>\n",
       "      <td>774</td>\n",
       "    </tr>\n",
       "    <tr>\n",
       "      <th>11597</th>\n",
       "      <td>0</td>\n",
       "      <td>0</td>\n",
       "      <td>0</td>\n",
       "      <td>10</td>\n",
       "      <td>0</td>\n",
       "      <td>47</td>\n",
       "      <td>6</td>\n",
       "      <td>0</td>\n",
       "      <td>44</td>\n",
       "      <td>11</td>\n",
       "      <td>...</td>\n",
       "      <td>0</td>\n",
       "      <td>0</td>\n",
       "      <td>0</td>\n",
       "      <td>0</td>\n",
       "      <td>0</td>\n",
       "      <td>0</td>\n",
       "      <td>0</td>\n",
       "      <td>13</td>\n",
       "      <td>3102</td>\n",
       "      <td>186</td>\n",
       "    </tr>\n",
       "  </tbody>\n",
       "</table>\n",
       "<p>11598 rows × 470 columns</p>\n",
       "</div>"
      ],
      "text/plain": [
       "       ACCESS_PERSONAL_INFO___  ALTER_PHONE_STATE___  ANTI_DEBUG_____  \\\n",
       "0                            1                     0                0   \n",
       "1                            3                     0                0   \n",
       "2                            2                     0                0   \n",
       "3                            1                     0                0   \n",
       "4                            3                     0                0   \n",
       "...                        ...                   ...              ...   \n",
       "11593                        2                     0                0   \n",
       "11594                        6                     0                0   \n",
       "11595                        0                     0                0   \n",
       "11596                        1                     0                0   \n",
       "11597                        0                     0                0   \n",
       "\n",
       "       CREATE_FOLDER_____  CREATE_PROCESS`_____  CREATE_THREAD_____  \\\n",
       "0                       3                     0                  14   \n",
       "1                       6                     0                  42   \n",
       "2                       4                     0                  23   \n",
       "3                       4                     0                  27   \n",
       "4                      11                     0                  18   \n",
       "...                   ...                   ...                 ...   \n",
       "11593                  11                     0                  61   \n",
       "11594                  10                     1                  69   \n",
       "11595                   0                     0                  21   \n",
       "11596                  15                     0                  90   \n",
       "11597                  10                     0                  47   \n",
       "\n",
       "       DEVICE_ACCESS_____  EXECUTE_____  FS_ACCESS____  FS_ACCESS()____  ...  \\\n",
       "0                       2             0              3                0  ...   \n",
       "1                      91             0             32                0  ...   \n",
       "2                       3             0             17                2  ...   \n",
       "3                       9             0             36                0  ...   \n",
       "4                       3             0             16                0  ...   \n",
       "...                   ...           ...            ...              ...  ...   \n",
       "11593                  13             0             66               17  ...   \n",
       "11594                  50             1            118               15  ...   \n",
       "11595                  16             0             48                9  ...   \n",
       "11596                  80             0            239               50  ...   \n",
       "11597                   6             0             44               11  ...   \n",
       "\n",
       "       updateServiceLocation  utimes  vfork  vibrate  vibratePattern  wait4  \\\n",
       "0                          0       0      0        0               0      0   \n",
       "1                          0       0      0        0               0      0   \n",
       "2                          0       0      0        0               0      0   \n",
       "3                          0       0      0        0               0      0   \n",
       "4                          0       0      0        0               0      0   \n",
       "...                      ...     ...    ...      ...             ...    ...   \n",
       "11593                      0       0      0        0               0      0   \n",
       "11594                      0       0      0        0               0      1   \n",
       "11595                      0       0      0        0               0      0   \n",
       "11596                      0       0      0        0               0      0   \n",
       "11597                      0       0      0        0               0      0   \n",
       "\n",
       "       watchRotation  windowGainedFocus  write  writev  \n",
       "0                  0                  0     37      10  \n",
       "1                  0                  2   2838      46  \n",
       "2                  0                  1    111      20  \n",
       "3                  0                  7    987     197  \n",
       "4                  0                  1     98      25  \n",
       "...              ...                ...    ...     ...  \n",
       "11593              0                 10   2764     236  \n",
       "11594              0                  5   4417     295  \n",
       "11595              0                  5    241      67  \n",
       "11596              0                  3   1703     774  \n",
       "11597              0                 13   3102     186  \n",
       "\n",
       "[11598 rows x 470 columns]"
      ]
     },
     "execution_count": 3,
     "metadata": {},
     "output_type": "execute_result"
    }
   ],
   "source": [
    "X=df.loc[:, df.columns != 'Class']\n",
    "X"
   ]
  },
  {
   "cell_type": "code",
   "execution_count": 4,
   "id": "d1ef7d33",
   "metadata": {},
   "outputs": [
    {
     "data": {
      "text/plain": [
       "0        1\n",
       "1        1\n",
       "2        1\n",
       "3        1\n",
       "4        1\n",
       "        ..\n",
       "11593    0\n",
       "11594    0\n",
       "11595    0\n",
       "11596    0\n",
       "11597    0\n",
       "Name: Class, Length: 11598, dtype: int64"
      ]
     },
     "execution_count": 4,
     "metadata": {},
     "output_type": "execute_result"
    }
   ],
   "source": [
    "Y=df.loc[:,'Class']\n",
    "Y"
   ]
  },
  {
   "cell_type": "code",
   "execution_count": 5,
   "id": "b9a783a6",
   "metadata": {},
   "outputs": [],
   "source": [
    "folder='paper/ml_all_feat'"
   ]
  },
  {
   "cell_type": "code",
   "execution_count": 6,
   "id": "bc68a565",
   "metadata": {},
   "outputs": [
    {
     "name": "stdout",
     "output_type": "stream",
     "text": [
      "Now in Progress - Feature Selection Iteration: [####################] 100.0%\n",
      "The optimalflow autoFS identify the top 25 important features for regression are: ['FS_ACCESS(CREATE__WRITE)__', 'brk', 'resolveContentProvider', '_newselect', 'access', 'getInstallerPackageName', 'getSubscriberId', 'resolveIntent', 'CREATE_FOLDER_____', 'CREATE_THREAD_____', 'FS_ACCESS()____', 'FS_ACCESS(CREATE)____', 'FS_ACCESS(CREATE__READ__WRITE)', '__arm_nr_set_tls', 'chmod', 'clone', 'fdatasync', 'finishDrawing', 'fsync', 'ftruncate64', 'getActivityInfo', 'getAnimationScale', 'getApplicationRestrictions', 'getReceiverInfo', 'openSession'].\n"
     ]
    },
    {
     "data": {
      "text/plain": [
       "(25,\n",
       " ['FS_ACCESS(CREATE__WRITE)__',\n",
       "  'brk',\n",
       "  'resolveContentProvider',\n",
       "  '_newselect',\n",
       "  'access',\n",
       "  'getInstallerPackageName',\n",
       "  'getSubscriberId',\n",
       "  'resolveIntent',\n",
       "  'CREATE_FOLDER_____',\n",
       "  'CREATE_THREAD_____',\n",
       "  'FS_ACCESS()____',\n",
       "  'FS_ACCESS(CREATE)____',\n",
       "  'FS_ACCESS(CREATE__READ__WRITE)',\n",
       "  '__arm_nr_set_tls',\n",
       "  'chmod',\n",
       "  'clone',\n",
       "  'fdatasync',\n",
       "  'finishDrawing',\n",
       "  'fsync',\n",
       "  'ftruncate64',\n",
       "  'getActivityInfo',\n",
       "  'getAnimationScale',\n",
       "  'getApplicationRestrictions',\n",
       "  'getReceiverInfo',\n",
       "  'openSession'])"
      ]
     },
     "execution_count": 6,
     "metadata": {},
     "output_type": "execute_result"
    }
   ],
   "source": [
    "# Set input_form_file = False, when label values are array. Select 'True' from Pandas dataframe.\n",
    "from optimalflow.autoFS import dynaFS_reg\n",
    "reg_fs_demo = dynaFS_reg( fs_num = 25,random_state = 5,cv = 25,input_from_file = True)\n",
    "\n",
    "\n",
    "reg_fs_demo.fit(X,Y)"
   ]
  },
  {
   "cell_type": "code",
   "execution_count": 11,
   "id": "b74db9a2",
   "metadata": {},
   "outputs": [],
   "source": [
    "feat=['FS_ACCESS(CREATE__WRITE)__', 'brk', 'resolveContentProvider', '_newselect', 'access', 'getInstallerPackageName', 'getSubscriberId', 'resolveIntent', 'CREATE_FOLDER_____', 'CREATE_THREAD_____', 'FS_ACCESS()____', 'FS_ACCESS(CREATE)____', 'FS_ACCESS(CREATE__READ__WRITE)', '__arm_nr_set_tls', 'chmod', 'clone', 'fdatasync', 'finishDrawing', 'fsync', 'ftruncate64', 'getActivityInfo', 'getAnimationScale', 'getApplicationRestrictions', 'getReceiverInfo', 'openSession']\n",
    "X=df.loc[:,feat]"
   ]
  },
  {
   "cell_type": "code",
   "execution_count": 6,
   "id": "8639dfe5",
   "metadata": {},
   "outputs": [
    {
     "name": "stdout",
     "output_type": "stream",
     "text": [
      "time  3.234375\n",
      "memory (179254, 20697571)\n",
      "Accuracy:  0.1   0.9775862068965517\n",
      "0.9558421326961482\n",
      "0.9671178955453148\n",
      "0.9453648824915901\n",
      "[0.92485549 0.98682877]\n",
      "time  2.78125\n",
      "memory (44148592, 62401302)\n",
      "Accuracy:  0.2   0.975\n",
      "0.9470195337907965\n",
      "0.9672611848568171\n",
      "0.9291611692215618\n",
      "[0.90851735 0.98552172]\n",
      "time  2.640625\n",
      "memory (44170073, 88138889)\n",
      "Accuracy:  0.3   0.975\n",
      "0.9507860880482985\n",
      "0.9686121681224595\n",
      "0.934900874158432\n",
      "[0.91626564 0.98530654]\n",
      "time  1.90625\n",
      "memory (44191642, 88169273)\n",
      "Accuracy:  0.4   0.9780172413793103\n",
      "0.9565357780856125\n",
      "0.9763579070368845\n",
      "0.9390471226780028\n",
      "[0.92597968 0.98709188]\n"
     ]
    }
   ],
   "source": [
    "size=[0.1,0.2,0.3,0.4]\n",
    "random_forest_acc=[]\n",
    "random_forest_pre=[]\n",
    "random_forest_recall=[]\n",
    "random_forest_f1=[]\n",
    "import tracemalloc\n",
    "import os\n",
    "import psutil\n",
    " \n",
    "import time\n",
    "from sklearn.ensemble import RandomForestClassifier\n",
    "from sklearn.model_selection import train_test_split\n",
    "from sklearn.metrics import precision_recall_fscore_support\n",
    "a=0\n",
    "from sklearn.metrics import accuracy_score, f1_score, precision_score, recall_score, classification_report, confusion_matrix\n",
    "for s in size:\n",
    "    X_train, X_test, y_train, y_test = train_test_split(X, Y, test_size=s)\n",
    "    #X_train, X_test = select_features(X_train, y_train, X_test)\n",
    "    clf=RandomForestClassifier(n_estimators=100)\n",
    "\n",
    "#Train the model using the training sets y_pred=clf.predict(X_test)\n",
    "    tracemalloc.start()\n",
    "    \n",
    "    start = time.process_time()\n",
    "    clf.fit(X_train,y_train)\n",
    "    print('time ',time.process_time() - start)\n",
    "    print('memory',tracemalloc.get_traced_memory())\n",
    "\n",
    "    y_pred=clf.predict(X_test)\n",
    "    from sklearn import metrics\n",
    "# Model Accuracy, how often is the classifier correct?\n",
    "    print(\"Accuracy: \",s, ' ' ,metrics.accuracy_score(y_test, y_pred))\n",
    "    a=max(a,metrics.accuracy_score(y_test, y_pred))\n",
    "    \n",
    "    print(f1_score(y_test, y_pred, average=\"macro\"))\n",
    "    print(precision_score(y_test, y_pred, average=\"macro\"))\n",
    "    print(recall_score(y_test, y_pred, average=\"macro\")) \n",
    "    print(f1_score(y_test, y_pred, average=None))\n",
    "    random_forest_acc.append(metrics.accuracy_score(y_test, y_pred))\n",
    "    random_forest_pre.append(precision_score(y_test, y_pred, average=\"macro\"))\n",
    "    random_forest_recall.append(recall_score(y_test, y_pred, average=\"macro\"))\n",
    "\n",
    "    random_forest_f1.append( 2 * (precision_score(y_test, y_pred, average=\"macro\") * recall_score(y_test, y_pred, average=\"macro\")) / (precision_score(y_test, y_pred, average=\"macro\") + recall_score(y_test, y_pred, average=\"macro\")))"
   ]
  },
  {
   "cell_type": "code",
   "execution_count": 7,
   "id": "07656e93",
   "metadata": {},
   "outputs": [
    {
     "name": "stdout",
     "output_type": "stream",
     "text": [
      "Accuracy: 0.7224137931034482\n",
      "0.6656390204777302\n",
      "0.669765655013446\n",
      "0.7800082120534696\n",
      "Accuracy: 0.4396551724137931\n",
      "0.42387158296249206\n",
      "0.5887287695403753\n",
      "0.6541256908644931\n",
      "Accuracy: 0.4379310344827586\n",
      "0.4275784400392352\n",
      "0.5977397855694002\n",
      "0.6524245629541167\n",
      "Accuracy: 0.31918103448275864\n",
      "0.3190709388905636\n",
      "0.5832654119739182\n",
      "0.5886845466155811\n"
     ]
    }
   ],
   "source": [
    "size=[0.1,0.2,0.3,0.4]\n",
    "nb_acc=[]\n",
    "nb_pre=[]\n",
    "nb_recall=[]\n",
    "nb_f1=[]\n",
    "from sklearn.naive_bayes import GaussianNB\n",
    "from sklearn.model_selection import train_test_split\n",
    "from sklearn.metrics import precision_recall_fscore_support\n",
    "from sklearn.metrics import accuracy_score, f1_score, precision_score, recall_score, classification_report, confusion_matrix\n",
    "for s in size:\n",
    "    X_train, X_test, y_train, y_test = train_test_split(X, Y, test_size=s)\n",
    "    #X_train, X_test = select_features(X_train, y_train, X_test)\n",
    "    clf=GaussianNB()\n",
    "#Train the model using the training sets y_pred=clf.predict(X_test)\n",
    "    clf.fit(X_train,y_train)\n",
    "\n",
    "    y_pred=clf.predict(X_test)\n",
    "    from sklearn import metrics\n",
    "# Model Accuracy, how often is the classifier correct?\n",
    "    print(\"Accuracy:\",metrics.accuracy_score(y_test, y_pred))\n",
    "    print(f1_score(y_test, y_pred, average=\"macro\"))\n",
    "    print(precision_score(y_test, y_pred, average=\"macro\"))\n",
    "    print(recall_score(y_test, y_pred, average=\"macro\")) \n",
    "    nb_acc.append(metrics.accuracy_score(y_test, y_pred))\n",
    "    nb_pre.append(precision_score(y_test, y_pred, average=\"macro\"))\n",
    "    nb_recall.append(recall_score(y_test, y_pred, average=\"macro\"))\n",
    "    nb_f1.append( 2 * (precision_score(y_test, y_pred, average=\"macro\") * recall_score(y_test, y_pred, average=\"macro\")) / (precision_score(y_test, y_pred, average=\"macro\") + recall_score(y_test, y_pred, average=\"macro\")))"
   ]
  },
  {
   "cell_type": "code",
   "execution_count": 8,
   "id": "832e65a9",
   "metadata": {},
   "outputs": [
    {
     "name": "stdout",
     "output_type": "stream",
     "text": [
      "time  13.359375\n",
      "memory (56348554, 123020628)\n",
      "Accuracy: 0.8586206896551725\n",
      "0.5669434731934732\n",
      "0.8372397110261187\n",
      "0.5582198545138516\n",
      "time  10.921875\n",
      "memory (10569700, 69923761)\n",
      "Accuracy: 0.8508620689655172\n",
      "0.5245439834722884\n",
      "0.7875559447363301\n",
      "0.5333579760608129\n",
      "time  8.421875\n",
      "memory (9409031, 61190841)\n",
      "Accuracy: 0.8543103448275862\n",
      "0.5397246894362543\n",
      "0.8483094238664145\n",
      "0.5424223016247556\n",
      "time  6.296875\n",
      "memory (8063055, 52458297)\n",
      "Accuracy: 0.8517241379310345\n",
      "0.5229430625659025\n",
      "0.8568310781318201\n",
      "0.5332235574396524\n"
     ]
    }
   ],
   "source": [
    "size=[0.1,0.2,0.3,0.4]\n",
    "s_acc=[]\n",
    "s_pre=[]\n",
    "s_recall=[]\n",
    "s_f1=[]\n",
    "from sklearn.svm import SVC \n",
    "from sklearn.model_selection import train_test_split\n",
    "from sklearn.metrics import precision_recall_fscore_support\n",
    "import tracemalloc\n",
    "import os\n",
    "import psutil\n",
    " \n",
    "import time\n",
    "\n",
    "from sklearn.metrics import accuracy_score, f1_score, precision_score, recall_score, classification_report, confusion_matrix\n",
    "for s in size:\n",
    "    X_train, X_test, y_train, y_test = train_test_split(X, Y, test_size=s)\n",
    "    clf=SVC(kernel ='rbf', random_state = 1) \n",
    "#Train the model using the training sets y_pred=clf.predict(X_test)\n",
    "    tracemalloc.start()\n",
    "    \n",
    "    start = time.process_time()\n",
    "    clf.fit(X_train,y_train)\n",
    "    print('time ',time.process_time() - start)\n",
    "    print('memory',tracemalloc.get_traced_memory())\n",
    " \n",
    "    # stopping the library\n",
    "    tracemalloc.stop()\n",
    "    y_pred=clf.predict(X_test)\n",
    "    from sklearn import metrics\n",
    "# Model Accuracy, how often is the classifier correct?\n",
    "    print(\"Accuracy:\",metrics.accuracy_score(y_test, y_pred))\n",
    "    print(f1_score(y_test, y_pred, average=\"macro\"))\n",
    "    print(precision_score(y_test, y_pred, average=\"macro\"))\n",
    "    print(recall_score(y_test, y_pred, average=\"macro\")) \n",
    "    s_acc.append(metrics.accuracy_score(y_test, y_pred))\n",
    "    s_pre.append(precision_score(y_test, y_pred, average=\"macro\"))\n",
    "    s_recall.append(recall_score(y_test, y_pred, average=\"macro\"))\n",
    "    s_f1.append( 2 * (precision_score(y_test, y_pred, average=\"macro\") * recall_score(y_test, y_pred, average=\"macro\")) / (precision_score(y_test, y_pred, average=\"macro\") + recall_score(y_test, y_pred, average=\"macro\")))"
   ]
  },
  {
   "cell_type": "code",
   "execution_count": 9,
   "id": "513a9ebd",
   "metadata": {},
   "outputs": [
    {
     "name": "stdout",
     "output_type": "stream",
     "text": [
      "Accuracy: 0.9603448275862069\n",
      "0.9307944116746818\n",
      "0.9489407226103448\n",
      "0.9149516327988054\n",
      "Accuracy: 0.969396551724138\n",
      "0.9391992027093119\n",
      "0.951931241161737\n",
      "0.927512055221247\n",
      "Accuracy: 0.9617816091954023\n",
      "0.930092522736469\n",
      "0.9291824923132573\n",
      "0.9310089600168556\n",
      "Accuracy: 0.9646551724137931\n",
      "0.932288908251186\n",
      "0.937315565182451\n",
      "0.9274413667965952\n"
     ]
    }
   ],
   "source": [
    "size=[0.1,0.2,0.3,0.4]\n",
    "d_acc=[]\n",
    "d_pre=[]\n",
    "d_recall=[]\n",
    "d_f1=[]\n",
    "from sklearn import tree \n",
    "from sklearn.model_selection import train_test_split\n",
    "from sklearn.metrics import precision_recall_fscore_support\n",
    "from sklearn.metrics import accuracy_score, f1_score, precision_score, recall_score, classification_report, confusion_matrix\n",
    "for s in size:\n",
    "    X_train, X_test, y_train, y_test = train_test_split(X, Y, test_size=s)\n",
    "    clf=tree.DecisionTreeClassifier()\n",
    "#Train the model using the training sets y_pred=clf.predict(X_test)\n",
    "    clf.fit(X_train,y_train)\n",
    "\n",
    "    y_pred=clf.predict(X_test)\n",
    "    from sklearn import metrics\n",
    "# Model Accuracy, how often is the classifier correct?\n",
    "    print(\"Accuracy:\",metrics.accuracy_score(y_test, y_pred))\n",
    "    print(f1_score(y_test, y_pred, average=\"macro\"))\n",
    "    print(precision_score(y_test, y_pred, average=\"macro\"))\n",
    "    print(recall_score(y_test, y_pred, average=\"macro\")) \n",
    "    d_acc.append(metrics.accuracy_score(y_test, y_pred))\n",
    "    d_pre.append(precision_score(y_test, y_pred, average=\"macro\"))\n",
    "    d_recall.append(recall_score(y_test, y_pred, average=\"macro\"))\n",
    "    d_f1.append( 2 * (precision_score(y_test, y_pred, average=\"macro\") * recall_score(y_test, y_pred, average=\"macro\")) / (precision_score(y_test, y_pred, average=\"macro\") + recall_score(y_test, y_pred, average=\"macro\")))"
   ]
  },
  {
   "cell_type": "code",
   "execution_count": 10,
   "id": "45800cf8",
   "metadata": {},
   "outputs": [
    {
     "name": "stderr",
     "output_type": "stream",
     "text": [
      "C:\\Users\\Vidhi Bansal\\AppData\\Local\\Packages\\PythonSoftwareFoundation.Python.3.7_qbz5n2kfra8p0\\LocalCache\\local-packages\\Python37\\site-packages\\sklearn\\linear_model\\_logistic.py:818: ConvergenceWarning: lbfgs failed to converge (status=1):\n",
      "STOP: TOTAL NO. of ITERATIONS REACHED LIMIT.\n",
      "\n",
      "Increase the number of iterations (max_iter) or scale the data as shown in:\n",
      "    https://scikit-learn.org/stable/modules/preprocessing.html\n",
      "Please also refer to the documentation for alternative solver options:\n",
      "    https://scikit-learn.org/stable/modules/linear_model.html#logistic-regression\n",
      "  extra_warning_msg=_LOGISTIC_SOLVER_CONVERGENCE_MSG,\n"
     ]
    },
    {
     "name": "stdout",
     "output_type": "stream",
     "text": [
      "Accuracy: 0.9155172413793103\n",
      "0.8091477459690688\n",
      "0.8747810363338419\n",
      "0.7693401015228427\n"
     ]
    },
    {
     "name": "stderr",
     "output_type": "stream",
     "text": [
      "C:\\Users\\Vidhi Bansal\\AppData\\Local\\Packages\\PythonSoftwareFoundation.Python.3.7_qbz5n2kfra8p0\\LocalCache\\local-packages\\Python37\\site-packages\\sklearn\\linear_model\\_logistic.py:818: ConvergenceWarning: lbfgs failed to converge (status=1):\n",
      "STOP: TOTAL NO. of ITERATIONS REACHED LIMIT.\n",
      "\n",
      "Increase the number of iterations (max_iter) or scale the data as shown in:\n",
      "    https://scikit-learn.org/stable/modules/preprocessing.html\n",
      "Please also refer to the documentation for alternative solver options:\n",
      "    https://scikit-learn.org/stable/modules/linear_model.html#logistic-regression\n",
      "  extra_warning_msg=_LOGISTIC_SOLVER_CONVERGENCE_MSG,\n"
     ]
    },
    {
     "name": "stdout",
     "output_type": "stream",
     "text": [
      "Accuracy: 0.9\n",
      "0.7785818774795588\n",
      "0.8401236090010261\n",
      "0.7424036281179138\n"
     ]
    },
    {
     "name": "stderr",
     "output_type": "stream",
     "text": [
      "C:\\Users\\Vidhi Bansal\\AppData\\Local\\Packages\\PythonSoftwareFoundation.Python.3.7_qbz5n2kfra8p0\\LocalCache\\local-packages\\Python37\\site-packages\\sklearn\\linear_model\\_logistic.py:818: ConvergenceWarning: lbfgs failed to converge (status=1):\n",
      "STOP: TOTAL NO. of ITERATIONS REACHED LIMIT.\n",
      "\n",
      "Increase the number of iterations (max_iter) or scale the data as shown in:\n",
      "    https://scikit-learn.org/stable/modules/preprocessing.html\n",
      "Please also refer to the documentation for alternative solver options:\n",
      "    https://scikit-learn.org/stable/modules/linear_model.html#logistic-regression\n",
      "  extra_warning_msg=_LOGISTIC_SOLVER_CONVERGENCE_MSG,\n"
     ]
    },
    {
     "name": "stdout",
     "output_type": "stream",
     "text": [
      "Accuracy: 0.9043103448275862\n",
      "0.7784359548482287\n",
      "0.8591962295419975\n",
      "0.7358531954717964\n",
      "Accuracy: 0.89375\n",
      "0.7655710449823983\n",
      "0.8323898912433585\n",
      "0.7286846620850644\n"
     ]
    },
    {
     "name": "stderr",
     "output_type": "stream",
     "text": [
      "C:\\Users\\Vidhi Bansal\\AppData\\Local\\Packages\\PythonSoftwareFoundation.Python.3.7_qbz5n2kfra8p0\\LocalCache\\local-packages\\Python37\\site-packages\\sklearn\\linear_model\\_logistic.py:818: ConvergenceWarning: lbfgs failed to converge (status=1):\n",
      "STOP: TOTAL NO. of ITERATIONS REACHED LIMIT.\n",
      "\n",
      "Increase the number of iterations (max_iter) or scale the data as shown in:\n",
      "    https://scikit-learn.org/stable/modules/preprocessing.html\n",
      "Please also refer to the documentation for alternative solver options:\n",
      "    https://scikit-learn.org/stable/modules/linear_model.html#logistic-regression\n",
      "  extra_warning_msg=_LOGISTIC_SOLVER_CONVERGENCE_MSG,\n"
     ]
    }
   ],
   "source": [
    "size=[0.1,0.2,0.3,0.4]\n",
    "lr_acc=[]\n",
    "lr_pre=[]\n",
    "lr_recall=[]\n",
    "lr_f1=[]\n",
    "from sklearn import tree \n",
    "from sklearn.model_selection import train_test_split\n",
    "from sklearn.metrics import precision_recall_fscore_support\n",
    "from sklearn.linear_model import LogisticRegression\n",
    "from sklearn.metrics import accuracy_score, f1_score, precision_score, recall_score, classification_report, confusion_matrix\n",
    "for s in size:\n",
    "    X_train, X_test, y_train, y_test = train_test_split(X, Y, test_size=s)\n",
    "    \n",
    "    classifier = LogisticRegression(random_state = 0)\n",
    "    classifier.fit(X_train,y_train)\n",
    "    y_pred=classifier.predict(X_test)\n",
    "    from sklearn import metrics\n",
    "# Model Accuracy, how often is the classifier correct?\n",
    "    print(\"Accuracy:\",metrics.accuracy_score(y_test, y_pred))\n",
    "    print(f1_score(y_test, y_pred, average=\"macro\"))\n",
    "    print(precision_score(y_test, y_pred, average=\"macro\"))\n",
    "    print(recall_score(y_test, y_pred, average=\"macro\")) \n",
    "    lr_acc.append(metrics.accuracy_score(y_test, y_pred))\n",
    "    lr_pre.append(precision_score(y_test, y_pred, average=\"macro\"))\n",
    "    lr_recall.append(recall_score(y_test, y_pred, average=\"macro\"))\n",
    "    lr_f1.append( 2 * (precision_score(y_test, y_pred, average=\"macro\") * recall_score(y_test, y_pred, average=\"macro\")) / (precision_score(y_test, y_pred, average=\"macro\") + recall_score(y_test, y_pred, average=\"macro\")))"
   ]
  },
  {
   "cell_type": "code",
   "execution_count": 11,
   "id": "d4e07e05",
   "metadata": {},
   "outputs": [
    {
     "name": "stdout",
     "output_type": "stream",
     "text": [
      "Accuracy: 0.925\n",
      "0.8443493348756507\n",
      "0.8926470588235293\n",
      "0.8108523908523908\n",
      "Accuracy: 0.9198275862068965\n",
      "0.8305468116788871\n",
      "0.8696778711484594\n",
      "0.8020091992951783\n",
      "Accuracy: 0.9183908045977012\n",
      "0.8278135357460438\n",
      "0.862604573083557\n",
      "0.8017268947873362\n",
      "Accuracy: 0.9066810344827586\n",
      "0.8049473617478313\n",
      "0.8475512440194759\n",
      "0.7755700318908483\n"
     ]
    }
   ],
   "source": [
    "size=[0.1,0.2,0.3,0.4]\n",
    "k_acc=[]\n",
    "k_pre=[]\n",
    "k_recall=[]\n",
    "k_f1=[]\n",
    "from sklearn.neighbors import KNeighborsClassifier\n",
    "from sklearn.model_selection import train_test_split\n",
    "from sklearn.metrics import precision_recall_fscore_support\n",
    "from sklearn.metrics import accuracy_score, f1_score, precision_score, recall_score, classification_report, confusion_matrix\n",
    "for s in size:\n",
    "    X_train, X_test, y_train, y_test = train_test_split(X, Y, test_size=s)\n",
    "    clf=KNeighborsClassifier(n_neighbors=5)\n",
    "#Train the model using the training sets y_pred=clf.predict(X_test)\n",
    "    clf.fit(X_train,y_train)\n",
    "\n",
    "    y_pred=clf.predict(X_test)\n",
    "    from sklearn import metrics\n",
    "# Model Accuracy, how often is the classifier correct?\n",
    "    print(\"Accuracy:\",metrics.accuracy_score(y_test, y_pred))\n",
    "    print(f1_score(y_test, y_pred, average=\"macro\"))\n",
    "    print(precision_score(y_test, y_pred, average=\"macro\"))\n",
    "    print(recall_score(y_test, y_pred, average=\"macro\")) \n",
    "    k_acc.append(metrics.accuracy_score(y_test, y_pred))\n",
    "    k_pre.append(precision_score(y_test, y_pred, average=\"macro\"))\n",
    "    k_recall.append(recall_score(y_test, y_pred, average=\"macro\"))\n",
    "    k_f1.append( 2 * (precision_score(y_test, y_pred, average=\"macro\") * recall_score(y_test, y_pred, average=\"macro\")) / (precision_score(y_test, y_pred, average=\"macro\") + recall_score(y_test, y_pred, average=\"macro\")))"
   ]
  },
  {
   "cell_type": "code",
   "execution_count": 12,
   "id": "c51fc7af",
   "metadata": {},
   "outputs": [],
   "source": [
    "\n",
    "import numpy as np \n",
    "import matplotlib.pyplot as plt \n",
    "#t = ['10%','20%','SVM','Naive Bayes','Decision tree']\n",
    "t = ['10%','20%','30%','40%']\n",
    "x_axis = np.arange(len(t))\n",
    "ind = np.arange(len(t)) \n",
    "width = 0.1"
   ]
  },
  {
   "cell_type": "code",
   "execution_count": 13,
   "id": "695d4a35",
   "metadata": {},
   "outputs": [
    {
     "data": {
      "image/png": "[encoded data removed]",
      "text/plain": [
       "<Figure size 432x288 with 1 Axes>"
      ]
     },
     "metadata": {
      "needs_background": "light"
     },
     "output_type": "display_data"
    }
   ],
   "source": [
    "plt.bar(ind, random_forest_acc, width, label = 'Random forest')\n",
    "plt.bar(ind+width, k_acc, width, label = 'KNN')\n",
    "plt.bar(ind+width*2, s_acc, width, label = 'SVM')\n",
    "plt.bar(ind+width*3, nb_acc, width, label = 'Naive Bayes')\n",
    "plt.bar(ind+width*4, d_acc, width, label = 'Decision Tree')\n",
    "plt.bar(ind+width*5, lr_acc, width, label = 'Logistic Regression')\n",
    "# Xticks\n",
    "\n",
    "plt.xticks(x_axis, t)\n",
    "plt.yticks([0.1,0.2,0.3,0.4,0.5,0.6,0.7,0.8,0.9])\n",
    "# Add legend\n",
    "plt.xlabel(\"Test size\")\n",
    "plt.ylabel(\"Accuracy\")\n",
    "plt.legend()\n",
    "plt.title(\"Accuracy\")\n",
    "# Display\n",
    "\n",
    "#plt.show()\n",
    "plt.savefig(folder+'/acc.png',facecolor=(1, 1, 1),dpi=200,bbox_inches = 'tight')"
   ]
  },
  {
   "cell_type": "code",
   "execution_count": 14,
   "id": "2512b929",
   "metadata": {},
   "outputs": [
    {
     "data": {
      "image/png": "[encoded data removed]",
      "text/plain": [
       "<Figure size 432x288 with 1 Axes>"
      ]
     },
     "metadata": {
      "needs_background": "light"
     },
     "output_type": "display_data"
    }
   ],
   "source": [
    "plt.bar(ind, random_forest_recall, width, label = 'Random forest')\n",
    "plt.bar(ind+width, k_recall, width, label = 'KNN')\n",
    "plt.bar(ind+width*2, s_recall, width, label = 'SVM')\n",
    "plt.bar(ind+width*3, nb_recall, width, label = 'Naive Bayes')\n",
    "plt.bar(ind+width*4, d_recall, width, label = 'Decision Tree')\n",
    "plt.bar(ind+width*5, lr_recall, width, label = 'Logistic Regression')\n",
    "# Xticks\n",
    "\n",
    "plt.xticks(x_axis, t)\n",
    "plt.yticks([0.1,0.2,0.3,0.4,0.5,0.6,0.7,0.8,0.9])\n",
    "# Add legend\n",
    "plt.xlabel(\"Test size\")\n",
    "plt.ylabel(\"Recall\")\n",
    "plt.legend()\n",
    "plt.title(\"Recall\")\n",
    "# Display\n",
    "\n",
    "#plt.show()\n",
    "plt.savefig(folder+'/recall.png',facecolor=(1, 1, 1),dpi=200)"
   ]
  },
  {
   "cell_type": "code",
   "execution_count": 15,
   "id": "6624d0fc",
   "metadata": {},
   "outputs": [
    {
     "data": {
      "image/png": "[encoded data removed]",
      "text/plain": [
       "<Figure size 432x288 with 1 Axes>"
      ]
     },
     "metadata": {
      "needs_background": "light"
     },
     "output_type": "display_data"
    }
   ],
   "source": [
    "plt.bar(ind, random_forest_pre, width, label = 'Random forest')\n",
    "plt.bar(ind+width, k_pre, width, label = 'KNN')\n",
    "plt.bar(ind+width*2, s_pre, width, label = 'SVM')\n",
    "plt.bar(ind+width*3, nb_pre, width, label = 'Naive Bayes')\n",
    "plt.bar(ind+width*4, d_pre, width, label = 'Decision Tree')\n",
    "plt.bar(ind+width*5, lr_pre, width, label = 'Logistic Regression')\n",
    "# Xticks\n",
    "#plt.figure()\n",
    "plt.xticks(x_axis, t)\n",
    "plt.yticks([0.1,0.2,0.3,0.4,0.5,0.6,0.7,0.8,0.9])\n",
    "# Add legend\n",
    "plt.xlabel(\"Test size\")\n",
    "plt.ylabel(\"Precision\")\n",
    "plt.legend()\n",
    "plt.title(\"Precision\")\n",
    "# Display\n",
    "\n",
    "#plt.show()\n",
    "plt.savefig(folder+'/Precision.png',facecolor=(1, 1, 1),dpi=200)"
   ]
  },
  {
   "cell_type": "code",
   "execution_count": 16,
   "id": "c16c6c80",
   "metadata": {},
   "outputs": [
    {
     "data": {
      "image/png": "[encoded data removed]",
      "text/plain": [
       "<Figure size 432x288 with 1 Axes>"
      ]
     },
     "metadata": {
      "needs_background": "light"
     },
     "output_type": "display_data"
    }
   ],
   "source": [
    "plt.bar(ind, random_forest_f1, width, label = 'Random forest')\n",
    "plt.bar(ind+width, k_f1, width, label = 'KNN')\n",
    "plt.bar(ind+width*2, s_f1, width, label = 'SVM')\n",
    "plt.bar(ind+width*3, nb_f1, width, label = 'Naive Bayes')\n",
    "plt.bar(ind+width*4, d_f1, width, label = 'Decision Tree')\n",
    "plt.bar(ind+width*5, lr_f1, width, label = 'Logistic Regression')\n",
    "# Xticks\n",
    "#plt.figure()\n",
    "plt.xticks(x_axis, t)\n",
    "plt.yticks([0.1,0.2,0.3,0.4,0.5,0.6,0.7,0.8,0.9])\n",
    "# Add legend\n",
    "plt.xlabel(\"Test size\")\n",
    "plt.ylabel(\"f1 score\")\n",
    "plt.legend()\n",
    "plt.title(\"f1 score\")\n",
    "# Display\n",
    "\n",
    "#plt.show()\n",
    "plt.savefig(folder+'/f1_score.png',facecolor=(1, 1, 1),dpi=200)"
   ]
  },
  {
   "cell_type": "code",
   "execution_count": 17,
   "id": "ab92f64c",
   "metadata": {},
   "outputs": [],
   "source": [
    "per_22=[]\n",
    "#per_22.append(['Random forest','KNN','SVM','Naive Bayes','Decision Tree','Logistic Regression'])\n",
    "#per_22.append( ['10%','20%','30%','40%'])\n",
    "per_22.append(random_forest_acc)\n",
    "per_22.append(k_acc)\n",
    "per_22.append(s_acc)\n",
    "per_22.append(nb_acc)\n",
    "per_22.append(d_acc)\n",
    "per_22.append(lr_acc)\n",
    "df_acc = pd.DataFrame(per_22)\n",
    "df_acc=df_acc.transpose()\n",
    "#df_acc=pd.DataFrame(df_acc,columns=['Random forest','KNN','SVM','Naive Bayes','Decision Tree','Logistic Regression'])\n",
    "df_acc.columns=['Random forest','KNN','SVM','Naive Bayes','Decision Tree','Logistic Regression']\n",
    "df_acc.to_csv(folder+'/acc.csv')\n"
   ]
  },
  {
   "cell_type": "code",
   "execution_count": 18,
   "id": "a7ded36a",
   "metadata": {},
   "outputs": [],
   "source": [
    "per_22=[]\n",
    "#per_22.append(['Random forest','KNN','SVM','Naive Bayes','Decision Tree','Logistic Regression'])\n",
    "#per_22.append( ['10%','20%','30%','40%'])\n",
    "per_22.append(random_forest_recall)\n",
    "per_22.append(k_recall)\n",
    "per_22.append(s_recall)\n",
    "per_22.append(nb_recall)\n",
    "per_22.append(d_recall)\n",
    "per_22.append(lr_recall)\n",
    "df_recall = pd.DataFrame(per_22)\n",
    "df_recall=df_recall.transpose()\n",
    "#df_acc=pd.DataFrame(df_acc,columns=['Random forest','KNN','SVM','Naive Bayes','Decision Tree','Logistic Regression'])\n",
    "df_recall.columns=['Random forest','KNN','SVM','Naive Bayes','Decision Tree','Logistic Regression']\n",
    "df_recall.to_csv(folder+'/recall.csv')\n"
   ]
  },
  {
   "cell_type": "code",
   "execution_count": 19,
   "id": "67c1563e",
   "metadata": {},
   "outputs": [],
   "source": [
    "per_22=[]\n",
    "#per_22.append(['Random forest','KNN','SVM','Naive Bayes','Decision Tree','Logistic Regression'])\n",
    "#per_22.append( ['10%','20%','30%','40%'])\n",
    "per_22.append(random_forest_pre)\n",
    "per_22.append(k_pre)\n",
    "per_22.append(s_pre)\n",
    "per_22.append(nb_pre)\n",
    "per_22.append(d_pre)\n",
    "per_22.append(lr_pre)\n",
    "df_pre = pd.DataFrame(per_22)\n",
    "df_pre=df_pre.transpose()\n",
    "#df_acc=pd.DataFrame(df_acc,columns=['Random forest','KNN','SVM','Naive Bayes','Decision Tree','Logistic Regression'])\n",
    "df_pre.columns=['Random forest','KNN','SVM','Naive Bayes','Decision Tree','Logistic Regression']\n",
    "df_pre.to_csv(folder+'/pre.csv')\n"
   ]
  },
  {
   "cell_type": "code",
   "execution_count": 20,
   "id": "512758f7",
   "metadata": {},
   "outputs": [],
   "source": [
    "per_22=[]\n",
    "#per_22.append(['Random forest','KNN','SVM','Naive Bayes','Decision Tree','Logistic Regression'])\n",
    "#per_22.append( ['10%','20%','30%','40%'])\n",
    "per_22.append(random_forest_f1)\n",
    "per_22.append(k_f1)\n",
    "per_22.append(s_f1)\n",
    "per_22.append(nb_f1)\n",
    "per_22.append(d_f1)\n",
    "per_22.append(lr_f1)\n",
    "df_f1 = pd.DataFrame(per_22)\n",
    "df_f1=df_f1.transpose()\n",
    "#df_acc=pd.DataFrame(df_acc,columns=['Random forest','KNN','SVM','Naive Bayes','Decision Tree','Logistic Regression'])\n",
    "df_f1.columns=['Random forest','KNN','SVM','Naive Bayes','Decision Tree','Logistic Regression']\n",
    "df_f1.to_csv(folder+'/f1.csv')\n"
   ]
  },
  {
   "cell_type": "code",
   "execution_count": 21,
   "id": "9ce25713",
   "metadata": {},
   "outputs": [
    {
     "name": "stderr",
     "output_type": "stream",
     "text": [
      "C:\\Users\\Vidhi Bansal\\AppData\\Local\\Packages\\PythonSoftwareFoundation.Python.3.7_qbz5n2kfra8p0\\LocalCache\\local-packages\\Python37\\site-packages\\sklearn\\linear_model\\_logistic.py:818: ConvergenceWarning: lbfgs failed to converge (status=1):\n",
      "STOP: TOTAL NO. of ITERATIONS REACHED LIMIT.\n",
      "\n",
      "Increase the number of iterations (max_iter) or scale the data as shown in:\n",
      "    https://scikit-learn.org/stable/modules/preprocessing.html\n",
      "Please also refer to the documentation for alternative solver options:\n",
      "    https://scikit-learn.org/stable/modules/linear_model.html#logistic-regression\n",
      "  extra_warning_msg=_LOGISTIC_SOLVER_CONVERGENCE_MSG,\n"
     ]
    },
    {
     "data": {
      "text/plain": [
       "0.9456896551724138"
      ]
     },
     "execution_count": 21,
     "metadata": {},
     "output_type": "execute_result"
    }
   ],
   "source": [
    "x_train, x_test, y_train, y_test = train_test_split(X, Y, test_size=0.2)\n",
    "from sklearn.ensemble import VotingClassifier\n",
    "from sklearn.linear_model import LogisticRegression\n",
    "from sklearn.tree import DecisionTreeClassifier\n",
    "model1 = LogisticRegression(random_state=1)\n",
    "model2 = DecisionTreeClassifier(random_state=1)\n",
    "model = VotingClassifier(estimators=[('lr', model1), ('dt', model2)], voting='hard')\n",
    "model.fit(x_train,y_train)\n",
    "model.score(x_test,y_test)"
   ]
  },
  {
   "cell_type": "code",
   "execution_count": 22,
   "id": "97e67322",
   "metadata": {},
   "outputs": [
    {
     "data": {
      "text/plain": [
       "0.9754310344827586"
      ]
     },
     "execution_count": 22,
     "metadata": {},
     "output_type": "execute_result"
    }
   ],
   "source": [
    "from sklearn.ensemble import BaggingClassifier\n",
    "from sklearn import tree\n",
    "model = BaggingClassifier(tree.DecisionTreeClassifier(random_state=1))\n",
    "model.fit(x_train, y_train)\n",
    "model.score(x_test,y_test)"
   ]
  },
  {
   "cell_type": "code",
   "execution_count": 23,
   "id": "57790f31",
   "metadata": {},
   "outputs": [
    {
     "data": {
      "text/plain": [
       "0.9698275862068966"
      ]
     },
     "execution_count": 23,
     "metadata": {},
     "output_type": "execute_result"
    }
   ],
   "source": [
    "from sklearn.ensemble import AdaBoostClassifier\n",
    "model = AdaBoostClassifier(random_state=1)\n",
    "model.fit(x_train, y_train)\n",
    "model.score(x_test,y_test)"
   ]
  },
  {
   "cell_type": "code",
   "execution_count": 24,
   "id": "ef7d293d",
   "metadata": {},
   "outputs": [
    {
     "data": {
      "text/plain": [
       "0.9422413793103448"
      ]
     },
     "execution_count": 24,
     "metadata": {},
     "output_type": "execute_result"
    }
   ],
   "source": [
    "from sklearn.ensemble import GradientBoostingClassifier\n",
    "model= GradientBoostingClassifier(learning_rate=0.01,random_state=1)\n",
    "model.fit(x_train, y_train)\n",
    "model.score(x_test,y_test)"
   ]
  },
  {
   "cell_type": "code",
   "execution_count": 25,
   "id": "0d90bc1a",
   "metadata": {},
   "outputs": [
    {
     "ename": "ModuleNotFoundError",
     "evalue": "No module named 'xgboost'",
     "output_type": "error",
     "traceback": [
      "\u001b[1;31m---------------------------------------------------------------------------\u001b[0m",
      "\u001b[1;31mModuleNotFoundError\u001b[0m                       Traceback (most recent call last)",
      "\u001b[1;32m~\\AppData\\Local\\Temp\\ipykernel_12144\\4053543316.py\u001b[0m in \u001b[0;36m<module>\u001b[1;34m\u001b[0m\n\u001b[1;32m----> 1\u001b[1;33m \u001b[1;32mimport\u001b[0m \u001b[0mxgboost\u001b[0m \u001b[1;32mas\u001b[0m \u001b[0mxgb\u001b[0m\u001b[1;33m\u001b[0m\u001b[1;33m\u001b[0m\u001b[0m\n\u001b[0m\u001b[0;32m      2\u001b[0m \u001b[0mmodel\u001b[0m\u001b[1;33m=\u001b[0m\u001b[0mxgb\u001b[0m\u001b[1;33m.\u001b[0m\u001b[0mXGBClassifier\u001b[0m\u001b[1;33m(\u001b[0m\u001b[0mrandom_state\u001b[0m\u001b[1;33m=\u001b[0m\u001b[1;36m1\u001b[0m\u001b[1;33m,\u001b[0m\u001b[0mlearning_rate\u001b[0m\u001b[1;33m=\u001b[0m\u001b[1;36m0.01\u001b[0m\u001b[1;33m)\u001b[0m\u001b[1;33m\u001b[0m\u001b[1;33m\u001b[0m\u001b[0m\n\u001b[0;32m      3\u001b[0m \u001b[0mmodel\u001b[0m\u001b[1;33m.\u001b[0m\u001b[0mfit\u001b[0m\u001b[1;33m(\u001b[0m\u001b[0mx_train\u001b[0m\u001b[1;33m,\u001b[0m \u001b[0my_train\u001b[0m\u001b[1;33m)\u001b[0m\u001b[1;33m\u001b[0m\u001b[1;33m\u001b[0m\u001b[0m\n\u001b[0;32m      4\u001b[0m \u001b[0mmodel\u001b[0m\u001b[1;33m.\u001b[0m\u001b[0mscore\u001b[0m\u001b[1;33m(\u001b[0m\u001b[0mx_test\u001b[0m\u001b[1;33m,\u001b[0m\u001b[0my_test\u001b[0m\u001b[1;33m)\u001b[0m\u001b[1;33m\u001b[0m\u001b[1;33m\u001b[0m\u001b[0m\n",
      "\u001b[1;31mModuleNotFoundError\u001b[0m: No module named 'xgboost'"
     ]
    }
   ],
   "source": [
    "import xgboost as xgb\n",
    "model=xgb.XGBClassifier(random_state=1,learning_rate=0.01)\n",
    "model.fit(x_train, y_train)\n",
    "model.score(x_test,y_test)"
   ]
  }
 ],
 "metadata": {
  "kernelspec": {
   "display_name": "Python 3 (ipykernel)",
   "language": "python",
   "name": "python3"
  },
  "language_info": {
   "codemirror_mode": {
    "name": "ipython",
    "version": 3
   },
   "file_extension": ".py",
   "mimetype": "text/x-python",
   "name": "python",
   "nbconvert_exporter": "python",
   "pygments_lexer": "ipython3",
   "version": "3.7.9"
  }
 },
 "nbformat": 4,
 "nbformat_minor": 5
}
