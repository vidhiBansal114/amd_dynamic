{
 "cells": [
  {
   "cell_type": "code",
   "execution_count": 1,
   "id": "f1cdcc72",
   "metadata": {},
   "outputs": [],
   "source": [
    "import pandas as pd\n",
    "import numpy as np"
   ]
  },
  {
   "cell_type": "code",
   "execution_count": 2,
   "id": "6b3a4d87",
   "metadata": {},
   "outputs": [],
   "source": [
    "#df= pd.read_csv('feature_vectors_syscalls_frequency_5_Cat.csv')\n",
    "df=pd.read_csv('feature_vectors_syscallsbinders_frequency_5_Cat.csv')\n",
    "#df2=df2.drop(columns=['Class'])\n",
    "for i in range(0,11598):\n",
    "    if int(df.at[i,'Class'])<5:\n",
    "        df.at[i,'Class']=1\n",
    "    else:\n",
    "        df.at[i,'Class']=0\n",
    "#df = pd.concat([df, df2], axis=1)"
   ]
  },
  {
   "cell_type": "code",
   "execution_count": 3,
   "id": "6ead8968",
   "metadata": {},
   "outputs": [],
   "source": [
    "X=df.loc[:, df.columns != 'Class']\n"
   ]
  },
  {
   "cell_type": "code",
   "execution_count": 4,
   "id": "d1ef7d33",
   "metadata": {},
   "outputs": [],
   "source": [
    "Y=df.loc[:,'Class']\n"
   ]
  },
  {
   "cell_type": "code",
   "execution_count": 5,
   "id": "2abe99cc",
   "metadata": {},
   "outputs": [],
   "source": [
    "import tracemalloc\n",
    "import os\n",
    "import psutil\n",
    "import pandas as pd\n",
    "from sklearn.ensemble import RandomForestClassifier\n",
    "from sklearn.feature_selection import SelectFromModel\n",
    "import time\n",
    "from sklearn.ensemble import RandomForestClassifier\n",
    "from sklearn.model_selection import train_test_split\n",
    "from sklearn.metrics import precision_recall_fscore_support\n",
    "a=0\n",
    "from sklearn.metrics import accuracy_score, f1_score, precision_score, recall_score, classification_report, confusion_matrix\n",
    "X_train, X_test, y_train, y_test = train_test_split(X, Y, test_size=0.2)\n",
    "k=df[df.columns[1:]].corr()['Class'][:]\n",
    "c=1\n",
    "indexl=[]\n",
    "for x in k:\n",
    "    c=c+1\n",
    "    if abs(x)<0.037:\n",
    "        #print(c)\n",
    "        indexl.append(c)\n",
    "        #c=c+1\n",
    "        #print(abs(x))"
   ]
  },
  {
   "cell_type": "code",
   "execution_count": 6,
   "id": "42a7743b",
   "metadata": {},
   "outputs": [],
   "source": [
    "df.drop(df.columns[indexl], axis = 1, inplace=True)\n",
    "X=df.loc[:, df.columns != 'Class']"
   ]
  },
  {
   "cell_type": "code",
   "execution_count": 7,
   "id": "b9a783a6",
   "metadata": {},
   "outputs": [],
   "source": [
    "folder='Shafin'"
   ]
  },
  {
   "cell_type": "code",
   "execution_count": 7,
   "id": "d0be67b3",
   "metadata": {},
   "outputs": [],
   "source": [
    "import tracemalloc\n",
    "import os\n",
    "import psutil\n",
    "import pandas as pd\n",
    "from sklearn.ensemble import RandomForestClassifier\n",
    "from sklearn.feature_selection import SelectFromModel\n",
    "import time\n",
    "from sklearn.ensemble import RandomForestClassifier\n",
    "from sklearn.model_selection import train_test_split\n",
    "from sklearn.metrics import precision_recall_fscore_support\n",
    "a=0\n",
    "from sklearn.metrics import accuracy_score, f1_score, precision_score, recall_score, classification_report, confusion_matrix\n",
    "\n"
   ]
  },
  {
   "cell_type": "code",
   "execution_count": 8,
   "id": "c51fc7af",
   "metadata": {},
   "outputs": [
    {
     "name": "stdout",
     "output_type": "stream",
     "text": [
      "1.0.2\n"
     ]
    }
   ],
   "source": [
    "# check scikit-learn version\n",
    "import sklearn\n",
    "print(sklearn.__version__)"
   ]
  },
  {
   "cell_type": "code",
   "execution_count": 9,
   "id": "695d4a35",
   "metadata": {},
   "outputs": [],
   "source": [
    "from sklearn.ensemble import RandomForestClassifier\n",
    "import lightgbm as lgb\n",
    "from sklearn.ensemble import ExtraTreesClassifier\n",
    "from sklearn.ensemble import BaggingClassifier\n",
    "import tracemalloc\n",
    "import os\n",
    "import psutil\n",
    " \n",
    "import time\n",
    "from sklearn.ensemble import RandomForestClassifier\n",
    "from sklearn.model_selection import train_test_split\n",
    "from sklearn.metrics import precision_recall_fscore_support\n",
    "a=0\n",
    "from sklearn.metrics import accuracy_score, f1_score, precision_score, recall_score, classification_report, confusion_matrix\n",
    "\n",
    "tracemalloc.start()\n",
    "    \n",
    "start = time.process_time()\n",
    "def get_stacking():\n",
    "\t# define the base models\n",
    "\tlevel0 = list()\n",
    "\tlevel0.append(('rf', RandomForestClassifier()))\n",
    "\tlevel0.append(('lgb', lgb.LGBMClassifier()))\n",
    "\tlevel0.append(('etc', ExtraTreesClassifier()))\n",
    "\tlevel0.append(('bag', BaggingClassifier()))\n",
    "\t#level0.append(('bayes', GaussianNB()))\n",
    "\t# define meta learner model\n",
    "\tlevel1 = LogisticRegression()\n",
    "\t# define the stacking ensemble\n",
    "\t#model = StackingClassifier(estimators=level0, final_estimator=level1, cv=5)\n",
    "\tmodel = StackingClassifier(estimators=level0, cv=5)\n",
    "\treturn model\n",
    " \n",
    "# get a list of models to evaluate\n",
    "def get_models():\n",
    "\tmodels = dict()\n",
    "\tmodels['rf'] = RandomForestClassifier()\n",
    "\tmodels['lgb'] = lgb.LGBMClassifier()\n",
    "\tmodels['etc'] =  ExtraTreesClassifier()\n",
    "\tmodels['bag'] = BaggingClassifier()\n",
    "\t#models['bayes'] = GaussianNB()\n",
    "\tmodels['stacking'] = get_stacking()\n",
    "\treturn models\n",
    "# evaluate a give model using cross-validation\n",
    "def evaluate_model(model, X, y):\n",
    "    cv = RepeatedStratifiedKFold(n_splits=10, n_repeats=3, random_state=1)\n",
    "    scores = cross_val_score(model, X, y, scoring='accuracy', cv=cv, n_jobs=-1, error_score='raise') \n",
    "    #scoresp = cross_val_score(model, X, y, scoring='precision', cv=cv, n_jobs=-1, error_score='raise')\n",
    "    #print('precision >%s %.4f (%.4f)' % (name, mean(scoresp), std(scoresp)))\n",
    "    #scoresa = cross_val_score(model, X, y, scoring='recall', cv=cv, n_jobs=-1, error_score='raise')\n",
    "    #print('recall >%s %.4f (%.4f)' % (name, mean(scoresr), std(scoresr)))\n",
    "    #scoresf = cross_val_score(model, X, y, scoring='f1', cv=cv, n_jobs=-1, error_score='raise')\n",
    "    #print('f1 >%s %.4f (%.4f)' % (name, mean(scoresf), std(scoresf)))\n",
    "    return scores "
   ]
  },
  {
   "cell_type": "code",
   "execution_count": 10,
   "id": "2512b929",
   "metadata": {},
   "outputs": [
    {
     "name": "stdout",
     "output_type": "stream",
     "text": [
      ">rf 0.9734 (0.0035)\n",
      ">lgb 0.9767 (0.0036)\n",
      ">etc 0.9696 (0.0037)\n",
      ">bag 0.9705 (0.0043)\n",
      ">stacking 0.9756 (0.0036)\n",
      "time  7.265625\n",
      "memory (12552200, 30268274)\n"
     ]
    },
    {
     "data": {
      "image/png": "[encoded data removed]",
      "text/plain": [
       "<Figure size 432x288 with 1 Axes>"
      ]
     },
     "metadata": {
      "needs_background": "light"
     },
     "output_type": "display_data"
    }
   ],
   "source": [
    "\n",
    "# compare ensemble to each baseline classifier\n",
    "from numpy import mean\n",
    "from numpy import std\n",
    "from sklearn.datasets import make_classification\n",
    "from sklearn.model_selection import cross_val_score\n",
    "from sklearn.model_selection import RepeatedStratifiedKFold\n",
    "from sklearn.linear_model import LogisticRegression\n",
    "from sklearn.neighbors import KNeighborsClassifier\n",
    "from sklearn.tree import DecisionTreeClassifier\n",
    "from sklearn.svm import SVC\n",
    "from sklearn.naive_bayes import GaussianNB\n",
    "from sklearn.ensemble import StackingClassifier\n",
    "from matplotlib import pyplot\n",
    "models = get_models()\n",
    "# evaluate the models and store results\n",
    "results, names = list(), list()\n",
    "\n",
    "\n",
    "\n",
    "for name, model in models.items():\n",
    "    models = get_models()\n",
    "    scores = evaluate_model(model, X, Y)\n",
    "    results.append(scores)\n",
    "    names.append(name)\n",
    "    print('>%s %.4f (%.4f)' % (name, mean(scores), std(scores)))\n",
    "\n",
    "\n",
    "# plot model performance for comparison\n",
    "print('time ',time.process_time() - start)\n",
    "print('memory',tracemalloc.get_traced_memory())\n",
    "pyplot.boxplot(results, labels=names, showmeans=True)\n",
    "pyplot.show()\n"
   ]
  },
  {
   "cell_type": "code",
   "execution_count": 12,
   "id": "6624d0fc",
   "metadata": {},
   "outputs": [],
   "source": [
    "\n",
    "def evaluate_model(model, X, y):\n",
    "    cv = RepeatedStratifiedKFold(n_splits=10, n_repeats=3, random_state=1)\n",
    "    #scores = cross_val_score(model, X, y, scoring='accuracy', cv=cv, n_jobs=-1, error_score='raise') \n",
    "    scores = cross_val_score(model, X, y, scoring='precision', cv=cv, n_jobs=-1, error_score='raise')\n",
    "    #print('precision >%s %.4f (%.4f)' % (name, mean(scoresp), std(scoresp)))\n",
    "    #scoresa = cross_val_score(model, X, y, scoring='recall', cv=cv, n_jobs=-1, error_score='raise')\n",
    "    #print('recall >%s %.4f (%.4f)' % (name, mean(scoresr), std(scoresr)))\n",
    "    #scoresf = cross_val_score(model, X, y, scoring='f1', cv=cv, n_jobs=-1, error_score='raise')\n",
    "    #print('f1 >%s %.4f (%.4f)' % (name, mean(scoresf), std(scoresf)))\n",
    "    return scores "
   ]
  },
  {
   "cell_type": "code",
   "execution_count": 13,
   "id": "c16c6c80",
   "metadata": {},
   "outputs": [
    {
     "name": "stdout",
     "output_type": "stream",
     "text": [
      ">rf 0.9769 (0.0035)\n",
      ">lgb 0.9814 (0.0033)\n",
      ">etc 0.9748 (0.0036)\n",
      ">bag 0.9808 (0.0035)\n",
      ">stacking 0.9784 (0.0033)\n",
      "time  1.765625\n",
      "memory (14706421, 32429205)\n"
     ]
    },
    {
     "data": {
      "image/png": "[encoded data removed]",
      "text/plain": [
       "<Figure size 432x288 with 1 Axes>"
      ]
     },
     "metadata": {
      "needs_background": "light"
     },
     "output_type": "display_data"
    }
   ],
   "source": [
    "\n",
    "# compare ensemble to each baseline classifier\n",
    "from numpy import mean\n",
    "from numpy import std\n",
    "from sklearn.datasets import make_classification\n",
    "from sklearn.model_selection import cross_val_score\n",
    "from sklearn.model_selection import RepeatedStratifiedKFold\n",
    "from sklearn.linear_model import LogisticRegression\n",
    "from sklearn.neighbors import KNeighborsClassifier\n",
    "from sklearn.tree import DecisionTreeClassifier\n",
    "from sklearn.svm import SVC\n",
    "from sklearn.naive_bayes import GaussianNB\n",
    "from sklearn.ensemble import StackingClassifier\n",
    "from matplotlib import pyplot\n",
    "models = get_models()\n",
    "# evaluate the models and store results\n",
    "results, names = list(), list()\n",
    "\n",
    "tracemalloc.start()\n",
    "    \n",
    "start = time.process_time()\n",
    "\n",
    "for name, model in models.items():\n",
    "    scores = evaluate_model(model, X, Y)\n",
    "    results.append(scores)\n",
    "    names.append(name)\n",
    "    print('>%s %.4f (%.4f)' % (name, mean(scores), std(scores)))\n",
    "\n",
    "print('time ',time.process_time() - start)\n",
    "print('memory',tracemalloc.get_traced_memory())\n",
    "# plot model performance for comparison\n",
    "pyplot.boxplot(results, labels=names, showmeans=True)\n",
    "pyplot.show()"
   ]
  },
  {
   "cell_type": "code",
   "execution_count": 14,
   "id": "ab92f64c",
   "metadata": {},
   "outputs": [],
   "source": [
    "def evaluate_model(model, X, y):\n",
    "    cv = RepeatedStratifiedKFold(n_splits=10, n_repeats=3, random_state=1)\n",
    "    #scores = cross_val_score(model, X, y, scoring='accuracy', cv=cv, n_jobs=-1, error_score='raise') \n",
    "    #scores = cross_val_score(model, X, y, scoring='precision', cv=cv, n_jobs=-1, error_score='raise')\n",
    "    #print('precision >%s %.4f (%.4f)' % (name, mean(scoresp), std(scoresp)))\n",
    "    scores = cross_val_score(model, X, y, scoring='recall', cv=cv, n_jobs=-1, error_score='raise')\n",
    "    #print('recall >%s %.4f (%.4f)' % (name, mean(scoresr), std(scoresr)))\n",
    "    #scoresf = cross_val_score(model, X, y, scoring='f1', cv=cv, n_jobs=-1, error_score='raise')\n",
    "    #print('f1 >%s %.4f (%.4f)' % (name, mean(scoresf), std(scoresf)))\n",
    "    return scores"
   ]
  },
  {
   "cell_type": "code",
   "execution_count": 15,
   "id": "a7ded36a",
   "metadata": {},
   "outputs": [
    {
     "name": "stdout",
     "output_type": "stream",
     "text": [
      ">rf 0.9924 (0.0023)\n",
      ">lgb 0.9913 (0.0023)\n",
      ">etc 0.9891 (0.0023)\n",
      ">bag 0.9844 (0.0038)\n",
      ">stacking 0.9934 (0.0023)\n",
      "time  1.828125\n",
      "memory (16127917, 33851214)\n"
     ]
    },
    {
     "data": {
      "image/png": "[encoded data removed]",
      "text/plain": [
       "<Figure size 432x288 with 1 Axes>"
      ]
     },
     "metadata": {
      "needs_background": "light"
     },
     "output_type": "display_data"
    }
   ],
   "source": [
    "\n",
    "# compare ensemble to each baseline classifier\n",
    "from numpy import mean\n",
    "from numpy import std\n",
    "from sklearn.datasets import make_classification\n",
    "from sklearn.model_selection import cross_val_score\n",
    "from sklearn.model_selection import RepeatedStratifiedKFold\n",
    "from sklearn.linear_model import LogisticRegression\n",
    "from sklearn.neighbors import KNeighborsClassifier\n",
    "from sklearn.tree import DecisionTreeClassifier\n",
    "from sklearn.svm import SVC\n",
    "from sklearn.naive_bayes import GaussianNB\n",
    "from sklearn.ensemble import StackingClassifier\n",
    "from matplotlib import pyplot\n",
    "models = get_models()\n",
    "# evaluate the models and store results\n",
    "results, names = list(), list()\n",
    "\n",
    "tracemalloc.start()\n",
    "    \n",
    "start = time.process_time()\n",
    "\n",
    "for name, model in models.items():\n",
    "    scores = evaluate_model(model, X, Y)\n",
    "    results.append(scores)\n",
    "    names.append(name)\n",
    "    print('>%s %.4f (%.4f)' % (name, mean(scores), std(scores)))\n",
    "\n",
    "print('time ',time.process_time() - start)\n",
    "print('memory',tracemalloc.get_traced_memory())\n",
    "# plot model performance for comparison\n",
    "pyplot.boxplot(results, labels=names, showmeans=True)\n",
    "pyplot.show()"
   ]
  },
  {
   "cell_type": "code",
   "execution_count": 16,
   "id": "67c1563e",
   "metadata": {},
   "outputs": [],
   "source": [
    "def evaluate_model(model, X, y):\n",
    "    cv = RepeatedStratifiedKFold(n_splits=10, n_repeats=3, random_state=1)\n",
    "    #scores = cross_val_score(model, X, y, scoring='accuracy', cv=cv, n_jobs=-1, error_score='raise') \n",
    "    #scores = cross_val_score(model, X, y, scoring='precision', cv=cv, n_jobs=-1, error_score='raise')\n",
    "    #print('precision >%s %.4f (%.4f)' % (name, mean(scoresp), std(scoresp)))\n",
    "    #scores = cross_val_score(model, X, y, scoring='recall', cv=cv, n_jobs=-1, error_score='raise')\n",
    "    #print('recall >%s %.4f (%.4f)' % (name, mean(scoresr), std(scoresr)))\n",
    "    scores = cross_val_score(model, X, y, scoring='f1', cv=cv, n_jobs=-1, error_score='raise')\n",
    "    #print('f1 >%s %.4f (%.4f)' % (name, mean(scoresf), std(scoresf)))\n",
    "    return scores"
   ]
  },
  {
   "cell_type": "code",
   "execution_count": 17,
   "id": "512758f7",
   "metadata": {},
   "outputs": [
    {
     "name": "stdout",
     "output_type": "stream",
     "text": [
      ">rf 0.9847 (0.0022)\n",
      ">lgb 0.9863 (0.0021)\n",
      ">etc 0.9821 (0.0021)\n",
      ">bag 0.9822 (0.0025)\n",
      ">stacking 0.9857 (0.0020)\n",
      "time  2.234375\n",
      "memory (14986197, 33851214)\n"
     ]
    },
    {
     "data": {
      "image/png": "[encoded data removed]",
      "text/plain": [
       "<Figure size 432x288 with 1 Axes>"
      ]
     },
     "metadata": {
      "needs_background": "light"
     },
     "output_type": "display_data"
    }
   ],
   "source": [
    "# compare ensemble to each baseline classifier\n",
    "from numpy import mean\n",
    "from numpy import std\n",
    "from sklearn.datasets import make_classification\n",
    "from sklearn.model_selection import cross_val_score\n",
    "from sklearn.model_selection import RepeatedStratifiedKFold\n",
    "from sklearn.linear_model import LogisticRegression\n",
    "from sklearn.neighbors import KNeighborsClassifier\n",
    "from sklearn.tree import DecisionTreeClassifier\n",
    "from sklearn.svm import SVC\n",
    "from sklearn.naive_bayes import GaussianNB\n",
    "from sklearn.ensemble import StackingClassifier\n",
    "from matplotlib import pyplot\n",
    "models = get_models()\n",
    "# evaluate the models and store results\n",
    "results, names = list(), list()\n",
    "\n",
    "tracemalloc.start()\n",
    "    \n",
    "start = time.process_time()\n",
    "\n",
    "for name, model in models.items():\n",
    "    scores = evaluate_model(model, X, Y)\n",
    "    results.append(scores)\n",
    "    names.append(name)\n",
    "    print('>%s %.4f (%.4f)' % (name, mean(scores), std(scores)))\n",
    "\n",
    "print('time ',time.process_time() - start)\n",
    "print('memory',tracemalloc.get_traced_memory())\n",
    "# plot model performance for comparison\n",
    "pyplot.boxplot(results, labels=names, showmeans=True)\n",
    "pyplot.show()"
   ]
  },
  {
   "cell_type": "code",
   "execution_count": 18,
   "id": "9ce25713",
   "metadata": {},
   "outputs": [
    {
     "data": {
      "image/png": "[encoded data removed]",
      "text/plain": [
       "<Figure size 432x288 with 1 Axes>"
      ]
     },
     "metadata": {
      "needs_background": "light"
     },
     "output_type": "display_data"
    }
   ],
   "source": [
    "import numpy as np \n",
    "import matplotlib.pyplot as plt \n",
    "import matplotlib.pyplot as plt \n",
    "t = ['Accuracy','Precision','Recall','f1score']\n",
    "x_axis = np.arange(len(t))\n",
    "ind = np.arange(len(t))\n",
    "width = 0.3\n",
    "acc=[0.9756,0.9785,0.9935,0.9857]\n",
    "plt.bar(ind, acc, width)\n",
    "plt.ylim([0.96,1])\n",
    "#add_value_label(ind,acc) \n",
    "plt.xticks(x_axis, t)\n",
    "#plt.xticks(rotation=90)\n",
    "#plt.yticks([0.1,0.2,0.3,0.4,0.5,0.6,0.7,0.8,0.9])\n",
    "# Add legend\n",
    "#plt.xlabel(\"Test size\")\n",
    "#plt.ylabel(\"Memory consumption\")\n",
    "#plt.legend()\n",
    "plt.title(\"Classification evaluation metrics\")\n",
    "# Display\n",
    "\n",
    "plt.savefig('paper/shafin.png',facecolor=(1, 1, 1),dpi=200,bbox_inches = 'tight')"
   ]
  },
  {
   "cell_type": "code",
   "execution_count": null,
   "id": "97e67322",
   "metadata": {},
   "outputs": [],
   "source": []
  },
  {
   "cell_type": "code",
   "execution_count": null,
   "id": "57790f31",
   "metadata": {},
   "outputs": [],
   "source": []
  },
  {
   "cell_type": "code",
   "execution_count": null,
   "id": "ef7d293d",
   "metadata": {},
   "outputs": [],
   "source": []
  },
  {
   "cell_type": "code",
   "execution_count": null,
   "id": "0d90bc1a",
   "metadata": {},
   "outputs": [],
   "source": []
  }
 ],
 "metadata": {
  "kernelspec": {
   "display_name": "Python 3 (ipykernel)",
   "language": "python",
   "name": "python3"
  },
  "language_info": {
   "codemirror_mode": {
    "name": "ipython",
    "version": 3
   },
   "file_extension": ".py",
   "mimetype": "text/x-python",
   "name": "python",
   "nbconvert_exporter": "python",
   "pygments_lexer": "ipython3",
   "version": "3.7.9"
  }
 },
 "nbformat": 4,
 "nbformat_minor": 5
}
