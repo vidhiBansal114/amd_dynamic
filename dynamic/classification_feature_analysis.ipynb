{
 "cells": [
  {
   "cell_type": "code",
   "execution_count": 1,
   "id": "f1cdcc72",
   "metadata": {},
   "outputs": [],
   "source": [
    "import pandas as pd\n",
    "import numpy as np"
   ]
  },
  {
   "cell_type": "code",
   "execution_count": 2,
   "id": "6b3a4d87",
   "metadata": {},
   "outputs": [],
   "source": [
    "#df= pd.read_csv('feature_vectors_syscalls_frequency_5_Cat.csv')\n",
    "df=pd.read_csv('feature_vectors_syscallsbinders_frequency_5_Cat.csv')\n",
    "#df2=df2.drop(columns=['Class'])\n",
    "for i in range(0,11598):\n",
    "    if int(df.at[i,'Class'])<5:\n",
    "        df.at[i,'Class']=1\n",
    "    else:\n",
    "        df.at[i,'Class']=0\n",
    "#df = pd.concat([df, df2], axis=1)"
   ]
  },
  {
   "cell_type": "code",
   "execution_count": 3,
   "id": "6ead8968",
   "metadata": {},
   "outputs": [],
   "source": [
    "X=df.loc[:, df.columns != 'Class']\n"
   ]
  },
  {
   "cell_type": "code",
   "execution_count": 4,
   "id": "d1ef7d33",
   "metadata": {},
   "outputs": [],
   "source": [
    "Y=df.loc[:,'Class']\n"
   ]
  },
  {
   "cell_type": "code",
   "execution_count": null,
   "id": "b9a783a6",
   "metadata": {},
   "outputs": [],
   "source": [
    "folder='fs_chi'"
   ]
  },
  {
   "cell_type": "code",
   "execution_count": 5,
   "id": "bc68a565",
   "metadata": {},
   "outputs": [],
   "source": [
    "# Import the necessary libraries first\n",
    "from sklearn.feature_selection import SelectKBest\n",
    "from sklearn.feature_selection import chi2"
   ]
  },
  {
   "cell_type": "code",
   "execution_count": 6,
   "id": "d4918707",
   "metadata": {},
   "outputs": [],
   "source": [
    "import tracemalloc\n",
    "import os\n",
    "import psutil\n",
    "from sklearn.ensemble import RandomForestClassifier\n",
    "import lightgbm as lgb\n",
    "from sklearn.ensemble import ExtraTreesClassifier\n",
    "from sklearn.ensemble import BaggingClassifier\n",
    "import tracemalloc\n",
    "import os\n",
    "import psutil\n",
    " \n",
    "import time\n",
    "from sklearn.ensemble import RandomForestClassifier\n",
    "from sklearn.model_selection import train_test_split\n",
    "from sklearn.metrics import precision_recall_fscore_support\n",
    "import time\n",
    "from sklearn.ensemble import RandomForestClassifier\n",
    "from sklearn.model_selection import train_test_split\n",
    "from sklearn.metrics import precision_recall_fscore_support\n",
    "from sklearn.model_selection import cross_val_score\n",
    "from sklearn.model_selection import RepeatedStratifiedKFold\n",
    "# compare ensemble to each baseline classifier\n",
    "from numpy import mean\n",
    "from numpy import std"
   ]
  },
  {
   "cell_type": "code",
   "execution_count": null,
   "id": "b74db9a2",
   "metadata": {},
   "outputs": [],
   "source": [
    "# Feature extraction\n",
    "acc=[]\n",
    "for i in range(2,471):\n",
    "    test = SelectKBest(score_func=chi2, k=i)\n",
    "    fit = test.fit(X, Y)\n",
    "    X_f = fit.transform(X)\n",
    "    model = lgb.LGBMClassifier().fit(X_f,Y)\n",
    "    cv = RepeatedStratifiedKFold(n_splits=10, n_repeats=3, random_state=1)\n",
    "    scores = cross_val_score(model, X_f, Y, scoring='accuracy', cv=cv, n_jobs=-1, error_score='raise')\n",
    "    acc.append(mean(scores))\n",
    "    print('>%.4f (%.4f)' % ( mean(scores), std(scores)))"
   ]
  },
  {
   "cell_type": "code",
   "execution_count": null,
   "id": "00808a82",
   "metadata": {},
   "outputs": [],
   "source": [
    "import matplotlib.pyplot as plt\n",
    "t=[]\n",
    "for i in range(2,470):\n",
    "    t.append(i)\n",
    "x_axis = np.arange(len(t))\n",
    "ind = np.arange(len(t)) \n",
    "width = 0.1\n",
    "plt.plot(t, acc[:-1])\n",
    " \n",
    "# naming the x axis\n",
    "plt.xlabel('Number of features')\n",
    "# naming the y axis\n",
    "plt.ylabel('Accuracy')\n",
    "#plt.yticks('2','10','11','12')\n",
    "# giving a title to my graph\n",
    "plt.title('Accuracy at different feature set size using Chi-Square Test')\n",
    "plt.savefig('paper/Accuracy at different feature set size using Chi-Square Test.png',facecolor=(1, 1, 1),dpi=200,bbox_inches = 'tight') "
   ]
  },
  {
   "cell_type": "code",
   "execution_count": null,
   "id": "2d76e7fb",
   "metadata": {},
   "outputs": [],
   "source": [
    "i=10\n",
    "for a in acc:\n",
    "    if a>0.98:\n",
    "        print(i,' ',a)\n",
    "    i=i+1"
   ]
  },
  {
   "cell_type": "code",
   "execution_count": null,
   "id": "8f7c4a14",
   "metadata": {},
   "outputs": [],
   "source": [
    "import tracemalloc\n",
    "import os\n",
    "import psutil\n",
    "from sklearn.ensemble import RandomForestClassifier\n",
    "import lightgbm as lgb\n",
    "from sklearn.ensemble import ExtraTreesClassifier\n",
    "from sklearn.ensemble import BaggingClassifier\n",
    "import tracemalloc\n",
    "import os\n",
    "import psutil\n",
    " \n",
    "import time\n",
    "from sklearn.ensemble import RandomForestClassifier\n",
    "from sklearn.model_selection import train_test_split\n",
    "from sklearn.metrics import precision_recall_fscore_support\n",
    "import time\n",
    "from sklearn.ensemble import RandomForestClassifier\n",
    "from sklearn.model_selection import train_test_split\n",
    "from sklearn.metrics import precision_recall_fscore_support\n",
    "#x_train,x_test,y_train,y_test = train_test_split(X,Y,test_size=0.2,random_state=1)\n",
    "model = lgb.LGBMClassifier().fit(X,Y)\n",
    "#model.fit(x_train,y_train,eval_set=[(x_test,y_test),(x_train,y_train)],          verbose=20,eval_metric='logloss')"
   ]
  },
  {
   "cell_type": "code",
   "execution_count": null,
   "id": "928b5fe1",
   "metadata": {},
   "outputs": [],
   "source": [
    "print('Training accuracy {:.4f}'.format(model.score(x_train,y_train)))\n",
    "print('Testing accuracy {:.4f}'.format(model.score(x_test,y_test)))"
   ]
  },
  {
   "cell_type": "code",
   "execution_count": null,
   "id": "d818bb18",
   "metadata": {},
   "outputs": [],
   "source": [
    "from sklearn.model_selection import cross_val_score\n",
    "from sklearn.model_selection import RepeatedStratifiedKFold\n",
    "# compare ensemble to each baseline classifier\n",
    "from numpy import mean\n",
    "from numpy import std\n",
    "cv = RepeatedStratifiedKFold(n_splits=10, n_repeats=3, random_state=1)\n",
    "scores = cross_val_score(model, X, Y, scoring='accuracy', cv=cv, n_jobs=-1, error_score='raise')\n",
    "print('>%.4f (%.4f)' % ( mean(scores), std(scores)))"
   ]
  },
  {
   "cell_type": "code",
   "execution_count": 7,
   "id": "2c1b564e",
   "metadata": {},
   "outputs": [],
   "source": [
    "acc=[]\n",
    "acc.append(0.980082686223756)\n",
    "pre=[]\n",
    "rec=[]\n",
    "f1=[]\n",
    "tim=[]\n",
    "mem=[]"
   ]
  },
  {
   "cell_type": "code",
   "execution_count": 40,
   "id": "2bf3f288",
   "metadata": {},
   "outputs": [
    {
     "name": "stdout",
     "output_type": "stream",
     "text": [
      "time  2.53125\n",
      "memory (13156269, 37230040)\n",
      ">a 0.9794 (0.0036)\n",
      ">p 0.9839 (0.0033)\n",
      ">r 0.9919 (0.0025)\n",
      ">f1 0.9879 (0.0021)\n"
     ]
    }
   ],
   "source": [
    "from sklearn.ensemble import RandomForestClassifier\n",
    "from sklearn.metrics import precision_recall_fscore_support\n",
    "import lightgbm as lgb\n",
    "from sklearn.ensemble import RandomForestClassifier\n",
    "from sklearn.metrics import precision_recall_fscore_support\n",
    "from sklearn.metrics import accuracy_score, f1_score, precision_score, recall_score, classification_report, confusion_matrix\n",
    "import tracemalloc\n",
    "import os\n",
    "import psutil\n",
    " \n",
    "import time\n",
    "from sklearn.ensemble import RandomForestClassifier\n",
    "from sklearn.model_selection import train_test_split\n",
    "from sklearn.metrics import precision_recall_fscore_support\n",
    "from sklearn.metrics import accuracy_score, f1_score, precision_score, recall_score, classification_report, confusion_matrix\n",
    "test = SelectKBest(score_func=chi2, k=125)\n",
    "fit = test.fit(X, Y)\n",
    "X_f = fit.transform(X)\n",
    "tracemalloc.start()\n",
    "start = time.process_time()\n",
    "model = lgb.LGBMClassifier().fit(X_f,Y)\n",
    "print('time ',time.process_time() - start)\n",
    "print('memory',tracemalloc.get_traced_memory())\n",
    "tim.append(time.process_time() - start)\n",
    "mem.append(tracemalloc.get_traced_memory())\n",
    "cv = RepeatedStratifiedKFold(n_splits=10, n_repeats=3, random_state=1)\n",
    "scores = cross_val_score(model, X_f, Y, scoring='accuracy', cv=cv, n_jobs=-1, error_score='raise')\n",
    "#acc.append(mean(scores))\n",
    "print('>a %.4f (%.4f)' % ( mean(scores), std(scores)))\n",
    "scores = cross_val_score(model, X_f, Y, scoring='precision', cv=cv, n_jobs=-1, error_score='raise')\n",
    "pre.append(mean(scores))\n",
    "print('>p %.4f (%.4f)' % ( mean(scores), std(scores)))\n",
    "scores = cross_val_score(model, X_f, Y, scoring='recall', cv=cv, n_jobs=-1, error_score='raise')\n",
    "rec.append(mean(scores))\n",
    "print('>r %.4f (%.4f)' % ( mean(scores), std(scores)))\n",
    "scores = cross_val_score(model, X_f, Y, scoring='f1', cv=cv, n_jobs=-1, error_score='raise')\n",
    "f1.append(mean(scores))\n",
    "print('>f1 %.4f (%.4f)' % ( mean(scores), std(scores)))"
   ]
  },
  {
   "cell_type": "code",
   "execution_count": 36,
   "id": "ed354a99",
   "metadata": {},
   "outputs": [
    {
     "name": "stdout",
     "output_type": "stream",
     "text": [
      "time  3.09375\n",
      "memory (13436401, 37230040)\n",
      ">a 0.9772 (0.0034)\n",
      ">p 0.9809 (0.0034)\n",
      ">r 0.9925 (0.0025)\n",
      ">f1 0.9870 (0.0017)\n"
     ]
    }
   ],
   "source": [
    "from sklearn.ensemble import RandomForestClassifier\n",
    "from sklearn.metrics import precision_recall_fscore_support\n",
    "from sklearn.metrics import accuracy_score, f1_score, precision_score, recall_score, classification_report, confusion_matrix\n",
    "import tracemalloc\n",
    "import os\n",
    "import psutil\n",
    " \n",
    "import time\n",
    "from sklearn.ensemble import RandomForestClassifier\n",
    "from sklearn.model_selection import train_test_split\n",
    "from sklearn.metrics import precision_recall_fscore_support\n",
    "test = SelectKBest(score_func=chi2, k=125)\n",
    "fit = test.fit(X, Y)\n",
    "X_f = fit.transform(X)\n",
    "tracemalloc.start()\n",
    "start = time.process_time()\n",
    "model = RandomForestClassifier().fit(X_f,Y)\n",
    "print('time ',time.process_time() - start)\n",
    "print('memory',tracemalloc.get_traced_memory())\n",
    "\n",
    "tim.append(time.process_time() - start)\n",
    "mem.append(tracemalloc.get_traced_memory())\n",
    "cv = RepeatedStratifiedKFold(n_splits=10, n_repeats=3, random_state=1)\n",
    "scores = cross_val_score(model, X_f, Y, scoring='accuracy', cv=cv, n_jobs=-1, error_score='raise')\n",
    "acc.append(mean(scores))\n",
    "print('>a %.4f (%.4f)' % ( mean(scores), std(scores)))\n",
    "scores = cross_val_score(model, X_f, Y, scoring='precision', cv=cv, n_jobs=-1, error_score='raise')\n",
    "pre.append(mean(scores))\n",
    "print('>p %.4f (%.4f)' % ( mean(scores), std(scores)))\n",
    "scores = cross_val_score(model, X_f, Y, scoring='recall', cv=cv, n_jobs=-1, error_score='raise')\n",
    "rec.append(mean(scores))\n",
    "print('>r %.4f (%.4f)' % ( mean(scores), std(scores)))\n",
    "scores = cross_val_score(model, X_f, Y, scoring='f1', cv=cv, n_jobs=-1, error_score='raise')\n",
    "f1.append(mean(scores))\n",
    "print('>f1 %.4f (%.4f)' % ( mean(scores), std(scores)))"
   ]
  },
  {
   "cell_type": "code",
   "execution_count": 15,
   "id": "2a96a442",
   "metadata": {},
   "outputs": [
    {
     "name": "stdout",
     "output_type": "stream",
     "text": [
      "time  0.046875\n",
      "memory (12811933, 37230040)\n",
      ">a 0.8629 (0.0163)\n",
      ">p 0.9427 (0.0093)\n",
      ">r 0.8922 (0.0219)\n",
      ">f1 0.9166 (0.0109)\n"
     ]
    }
   ],
   "source": [
    "from sklearn.ensemble import RandomForestClassifier\n",
    "from sklearn.metrics import precision_recall_fscore_support\n",
    "from sklearn.metrics import accuracy_score, f1_score, precision_score, recall_score, classification_report, confusion_matrix\n",
    "import tracemalloc\n",
    "import os\n",
    "import psutil\n",
    "from sklearn.naive_bayes import GaussianNB\n",
    "import time\n",
    "from sklearn.ensemble import RandomForestClassifier\n",
    "from sklearn.model_selection import train_test_split\n",
    "from sklearn.metrics import precision_recall_fscore_support\n",
    "test = SelectKBest(score_func=chi2, k=125)\n",
    "fit = test.fit(X, Y)\n",
    "X_f = fit.transform(X)\n",
    "tracemalloc.start()\n",
    "start = time.process_time()\n",
    "model = GaussianNB().fit(X_f,Y)\n",
    "print('time ',time.process_time() - start)\n",
    "print('memory',tracemalloc.get_traced_memory())\n",
    "\n",
    "tim.append(time.process_time() - start)\n",
    "mem.append(tracemalloc.get_traced_memory())\n",
    "cv = RepeatedStratifiedKFold(n_splits=10, n_repeats=3, random_state=1)\n",
    "scores = cross_val_score(model, X_f, Y, scoring='accuracy', cv=cv, n_jobs=-1, error_score='raise')\n",
    "acc.append(mean(scores))\n",
    "print('>a %.4f (%.4f)' % ( mean(scores), std(scores)))\n",
    "scores = cross_val_score(model, X_f, Y, scoring='precision', cv=cv, n_jobs=-1, error_score='raise')\n",
    "pre.append(mean(scores))\n",
    "print('>p %.4f (%.4f)' % ( mean(scores), std(scores)))\n",
    "scores = cross_val_score(model, X_f, Y, scoring='recall', cv=cv, n_jobs=-1, error_score='raise')\n",
    "rec.append(mean(scores))\n",
    "print('>r %.4f (%.4f)' % ( mean(scores), std(scores)))\n",
    "scores = cross_val_score(model, X_f, Y, scoring='f1', cv=cv, n_jobs=-1, error_score='raise')\n",
    "f1.append(mean(scores))\n",
    "print('>f1 %.4f (%.4f)' % ( mean(scores), std(scores)))"
   ]
  },
  {
   "cell_type": "code",
   "execution_count": 37,
   "id": "8639dfe5",
   "metadata": {},
   "outputs": [
    {
     "name": "stdout",
     "output_type": "stream",
     "text": [
      "time  5.515625\n",
      "memory (16693876, 37230040)\n",
      ">a 0.8576 (0.0026)\n",
      ">p 0.8581 (0.0023)\n",
      ">r 0.9963 (0.0020)\n",
      ">f1 0.9220 (0.0013)\n"
     ]
    }
   ],
   "source": [
    "from sklearn.ensemble import RandomForestClassifier\n",
    "from sklearn.metrics import precision_recall_fscore_support\n",
    "from sklearn.metrics import accuracy_score, f1_score, precision_score, recall_score, classification_report, confusion_matrix\n",
    "import tracemalloc\n",
    "import os\n",
    "import psutil\n",
    "from sklearn.naive_bayes import GaussianNB\n",
    "import time\n",
    "from sklearn.svm import SVC \n",
    "from sklearn.ensemble import RandomForestClassifier\n",
    "from sklearn.model_selection import train_test_split\n",
    "from sklearn.metrics import precision_recall_fscore_support\n",
    "test = SelectKBest(score_func=chi2, k=125)\n",
    "fit = test.fit(X, Y)\n",
    "X_f = fit.transform(X)\n",
    "tracemalloc.start()\n",
    "start = time.process_time()\n",
    "model = SVC(kernel ='rbf', random_state = 1).fit(X_f,Y)\n",
    "print('time ',time.process_time() - start)\n",
    "print('memory',tracemalloc.get_traced_memory())\n",
    "\n",
    "tim.append(time.process_time() - start)\n",
    "mem.append(tracemalloc.get_traced_memory())\n",
    "cv = RepeatedStratifiedKFold(n_splits=10, n_repeats=3, random_state=1)\n",
    "scores = cross_val_score(model, X_f, Y, scoring='accuracy', cv=cv, n_jobs=-1, error_score='raise')\n",
    "acc.append(mean(scores))\n",
    "print('>a %.4f (%.4f)' % ( mean(scores), std(scores)))\n",
    "scores = cross_val_score(model, X_f, Y, scoring='precision', cv=cv, n_jobs=-1, error_score='raise')\n",
    "pre.append(mean(scores))\n",
    "print('>p %.4f (%.4f)' % ( mean(scores), std(scores)))\n",
    "scores = cross_val_score(model, X_f, Y, scoring='recall', cv=cv, n_jobs=-1, error_score='raise')\n",
    "rec.append(mean(scores))\n",
    "print('>r %.4f (%.4f)' % ( mean(scores), std(scores)))\n",
    "scores = cross_val_score(model, X_f, Y, scoring='f1', cv=cv, n_jobs=-1, error_score='raise')\n",
    "f1.append(mean(scores))\n",
    "print('>f1 %.4f (%.4f)' % ( mean(scores), std(scores)))"
   ]
  },
  {
   "cell_type": "code",
   "execution_count": 12,
   "id": "11142985",
   "metadata": {},
   "outputs": [
    {
     "name": "stdout",
     "output_type": "stream",
     "text": [
      "time  2.296875\n",
      "memory (12931268, 36010169)\n",
      ">a 0.9668 (0.0055)\n",
      ">p 0.9784 (0.0049)\n",
      ">r 0.9815 (0.0043)\n",
      ">f1 0.9799 (0.0029)\n"
     ]
    }
   ],
   "source": [
    "from sklearn.ensemble import RandomForestClassifier\n",
    "from sklearn.metrics import precision_recall_fscore_support\n",
    "from sklearn.metrics import accuracy_score, f1_score, precision_score, recall_score, classification_report, confusion_matrix\n",
    "import tracemalloc\n",
    "import os\n",
    "import psutil\n",
    "from sklearn.naive_bayes import GaussianNB\n",
    "import time\n",
    "from sklearn.svm import SVC \n",
    "from sklearn import tree \n",
    "from sklearn.ensemble import RandomForestClassifier\n",
    "from sklearn.model_selection import train_test_split\n",
    "from sklearn.metrics import precision_recall_fscore_support\n",
    "test = SelectKBest(score_func=chi2, k=125)\n",
    "fit = test.fit(X, Y)\n",
    "X_f = fit.transform(X)\n",
    "tracemalloc.start()\n",
    "start = time.process_time()\n",
    "model = tree.DecisionTreeClassifier().fit(X_f,Y)\n",
    "print('time ',time.process_time() - start)\n",
    "print('memory',tracemalloc.get_traced_memory())\n",
    "\n",
    "tim.append(time.process_time() - start)\n",
    "mem.append(tracemalloc.get_traced_memory())\n",
    "cv = RepeatedStratifiedKFold(n_splits=10, n_repeats=3, random_state=1)\n",
    "scores = cross_val_score(model, X_f, Y, scoring='accuracy', cv=cv, n_jobs=-1, error_score='raise')\n",
    "acc.append(mean(scores))\n",
    "print('>a %.4f (%.4f)' % ( mean(scores), std(scores)))\n",
    "scores = cross_val_score(model, X_f, Y, scoring='precision', cv=cv, n_jobs=-1, error_score='raise')\n",
    "pre.append(mean(scores))\n",
    "print('>p %.4f (%.4f)' % ( mean(scores), std(scores)))\n",
    "scores = cross_val_score(model, X_f, Y, scoring='recall', cv=cv, n_jobs=-1, error_score='raise')\n",
    "rec.append(mean(scores))\n",
    "print('>r %.4f (%.4f)' % ( mean(scores), std(scores)))\n",
    "scores = cross_val_score(model, X_f, Y, scoring='f1', cv=cv, n_jobs=-1, error_score='raise')\n",
    "f1.append(mean(scores))\n",
    "print('>f1 %.4f (%.4f)' % ( mean(scores), std(scores)))"
   ]
  },
  {
   "cell_type": "code",
   "execution_count": 13,
   "id": "6283cca0",
   "metadata": {},
   "outputs": [
    {
     "name": "stderr",
     "output_type": "stream",
     "text": [
      "C:\\Users\\Vidhi Bansal\\AppData\\Local\\Packages\\PythonSoftwareFoundation.Python.3.7_qbz5n2kfra8p0\\LocalCache\\local-packages\\Python37\\site-packages\\sklearn\\linear_model\\_logistic.py:818: ConvergenceWarning: lbfgs failed to converge (status=1):\n",
      "STOP: TOTAL NO. of ITERATIONS REACHED LIMIT.\n",
      "\n",
      "Increase the number of iterations (max_iter) or scale the data as shown in:\n",
      "    https://scikit-learn.org/stable/modules/preprocessing.html\n",
      "Please also refer to the documentation for alternative solver options:\n",
      "    https://scikit-learn.org/stable/modules/linear_model.html#logistic-regression\n",
      "  extra_warning_msg=_LOGISTIC_SOLVER_CONVERGENCE_MSG,\n"
     ]
    },
    {
     "name": "stdout",
     "output_type": "stream",
     "text": [
      "time  1.40625\n",
      "memory (24678382, 36010169)\n",
      ">a 0.9004 (0.0088)\n",
      ">p 0.9153 (0.0081)\n",
      ">r 0.9723 (0.0056)\n",
      ">f1 0.9429 (0.0049)\n"
     ]
    }
   ],
   "source": [
    "from sklearn.ensemble import RandomForestClassifier\n",
    "from sklearn.metrics import precision_recall_fscore_support\n",
    "from sklearn.metrics import accuracy_score, f1_score, precision_score, recall_score, classification_report, confusion_matrix\n",
    "import tracemalloc\n",
    "import os\n",
    "import psutil\n",
    "from sklearn.naive_bayes import GaussianNB\n",
    "import time\n",
    "from sklearn.svm import SVC \n",
    "from sklearn import tree \n",
    "from sklearn.ensemble import RandomForestClassifier\n",
    "from sklearn.model_selection import train_test_split\n",
    "from sklearn.metrics import precision_recall_fscore_support\n",
    "from sklearn.linear_model import LogisticRegression\n",
    "test = SelectKBest(score_func=chi2, k=125)\n",
    "fit = test.fit(X, Y)\n",
    "X_f = fit.transform(X)\n",
    "tracemalloc.start()\n",
    "start = time.process_time()\n",
    "model = LogisticRegression().fit(X_f,Y)\n",
    "print('time ',time.process_time() - start)\n",
    "print('memory',tracemalloc.get_traced_memory())\n",
    "\n",
    "tim.append(time.process_time() - start)\n",
    "mem.append(tracemalloc.get_traced_memory())\n",
    "cv = RepeatedStratifiedKFold(n_splits=10, n_repeats=3, random_state=1)\n",
    "scores = cross_val_score(model, X_f, Y, scoring='accuracy', cv=cv, n_jobs=-1, error_score='raise')\n",
    "acc.append(mean(scores))\n",
    "print('>a %.4f (%.4f)' % ( mean(scores), std(scores)))\n",
    "scores = cross_val_score(model, X_f, Y, scoring='precision', cv=cv, n_jobs=-1, error_score='raise')\n",
    "pre.append(mean(scores))\n",
    "print('>p %.4f (%.4f)' % ( mean(scores), std(scores)))\n",
    "scores = cross_val_score(model, X_f, Y, scoring='recall', cv=cv, n_jobs=-1, error_score='raise')\n",
    "rec.append(mean(scores))\n",
    "print('>r %.4f (%.4f)' % ( mean(scores), std(scores)))\n",
    "scores = cross_val_score(model, X_f, Y, scoring='f1', cv=cv, n_jobs=-1, error_score='raise')\n",
    "f1.append(mean(scores))\n",
    "print('>f1 %.4f (%.4f)' % ( mean(scores), std(scores)))"
   ]
  },
  {
   "cell_type": "code",
   "execution_count": 41,
   "id": "fcf9a015",
   "metadata": {},
   "outputs": [
    {
     "name": "stdout",
     "output_type": "stream",
     "text": [
      "time  1.984375\n",
      "memory (13384311, 37230040)\n",
      ">a 0.9733 (0.0039)\n",
      ">p 0.9764 (0.0037)\n",
      ">r 0.9915 (0.0028)\n",
      ">f1 0.9845 (0.0022)\n"
     ]
    }
   ],
   "source": [
    "from sklearn.ensemble import RandomForestClassifier\n",
    "from sklearn.metrics import precision_recall_fscore_support\n",
    "from sklearn.metrics import accuracy_score, f1_score, precision_score, recall_score, classification_report, confusion_matrix\n",
    "import tracemalloc\n",
    "import os\n",
    "import psutil\n",
    "from sklearn.naive_bayes import GaussianNB\n",
    "from sklearn.ensemble import ExtraTreesClassifier\n",
    "import time\n",
    "from sklearn.svm import SVC \n",
    "from sklearn import tree \n",
    "from sklearn.ensemble import RandomForestClassifier\n",
    "from sklearn.model_selection import train_test_split\n",
    "from sklearn.metrics import precision_recall_fscore_support\n",
    "from sklearn.linear_model import LogisticRegression\n",
    "test = SelectKBest(score_func=chi2, k=125)\n",
    "fit = test.fit(X, Y)\n",
    "X_f = fit.transform(X)\n",
    "tracemalloc.start()\n",
    "start = time.process_time()\n",
    "model = ExtraTreesClassifier().fit(X_f,Y)\n",
    "print('time ',time.process_time() - start)\n",
    "print('memory',tracemalloc.get_traced_memory())\n",
    "\n",
    "tim.append(time.process_time() - start)\n",
    "mem.append(tracemalloc.get_traced_memory())\n",
    "cv = RepeatedStratifiedKFold(n_splits=10, n_repeats=3, random_state=1)\n",
    "scores = cross_val_score(model, X_f, Y, scoring='accuracy', cv=cv, n_jobs=-1, error_score='raise')\n",
    "acc.append(mean(scores))\n",
    "print('>a %.4f (%.4f)' % ( mean(scores), std(scores)))\n",
    "scores = cross_val_score(model, X_f, Y, scoring='precision', cv=cv, n_jobs=-1, error_score='raise')\n",
    "pre.append(mean(scores))\n",
    "print('>p %.4f (%.4f)' % ( mean(scores), std(scores)))\n",
    "scores = cross_val_score(model, X_f, Y, scoring='recall', cv=cv, n_jobs=-1, error_score='raise')\n",
    "rec.append(mean(scores))\n",
    "print('>r %.4f (%.4f)' % ( mean(scores), std(scores)))\n",
    "scores = cross_val_score(model, X_f, Y, scoring='f1', cv=cv, n_jobs=-1, error_score='raise')\n",
    "f1.append(mean(scores))\n",
    "print('>f1 %.4f (%.4f)' % ( mean(scores), std(scores)))"
   ]
  },
  {
   "cell_type": "code",
   "execution_count": null,
   "id": "440aa32a",
   "metadata": {},
   "outputs": [],
   "source": []
  },
  {
   "cell_type": "code",
   "execution_count": 42,
   "id": "64815dc3",
   "metadata": {},
   "outputs": [
    {
     "name": "stdout",
     "output_type": "stream",
     "text": [
      "time  2.40625\n",
      "memory (13619092, 37230040)\n",
      ">a 0.9634 (0.0047)\n",
      ">p 0.9687 (0.0044)\n",
      ">r 0.9886 (0.0035)\n",
      ">f1 0.9785 (0.0027)\n"
     ]
    }
   ],
   "source": [
    "from sklearn.ensemble import AdaBoostClassifier\n",
    "from sklearn.ensemble import RandomForestClassifier\n",
    "from sklearn.metrics import precision_recall_fscore_support\n",
    "from sklearn.metrics import accuracy_score, f1_score, precision_score, recall_score, classification_report, confusion_matrix\n",
    "import tracemalloc\n",
    "import os\n",
    "import psutil\n",
    "from sklearn.naive_bayes import GaussianNB\n",
    "from sklearn.ensemble import ExtraTreesClassifier\n",
    "import time\n",
    "from sklearn.svm import SVC \n",
    "from sklearn.ensemble import BaggingClassifier\n",
    "from sklearn import tree \n",
    "from sklearn.ensemble import RandomForestClassifier\n",
    "from sklearn.model_selection import train_test_split\n",
    "from sklearn.metrics import precision_recall_fscore_support\n",
    "from sklearn.linear_model import LogisticRegression\n",
    "test = SelectKBest(score_func=chi2, k=125)\n",
    "fit = test.fit(X, Y)\n",
    "X_f = fit.transform(X)\n",
    "tracemalloc.start()\n",
    "start = time.process_time()\n",
    "model = AdaBoostClassifier().fit(X_f,Y)\n",
    "print('time ',time.process_time() - start)\n",
    "print('memory',tracemalloc.get_traced_memory())\n",
    "\n",
    "tim.append(time.process_time() - start)\n",
    "mem.append(tracemalloc.get_traced_memory())\n",
    "cv = RepeatedStratifiedKFold(n_splits=10, n_repeats=3, random_state=1)\n",
    "scores = cross_val_score(model, X_f, Y, scoring='accuracy', cv=cv, n_jobs=-1, error_score='raise')\n",
    "acc.append(mean(scores))\n",
    "print('>a %.4f (%.4f)' % ( mean(scores), std(scores)))\n",
    "scores = cross_val_score(model, X_f, Y, scoring='precision', cv=cv, n_jobs=-1, error_score='raise')\n",
    "pre.append(mean(scores))\n",
    "print('>p %.4f (%.4f)' % ( mean(scores), std(scores)))\n",
    "scores = cross_val_score(model, X_f, Y, scoring='recall', cv=cv, n_jobs=-1, error_score='raise')\n",
    "rec.append(mean(scores))\n",
    "print('>r %.4f (%.4f)' % ( mean(scores), std(scores)))\n",
    "scores = cross_val_score(model, X_f, Y, scoring='f1', cv=cv, n_jobs=-1, error_score='raise')\n",
    "f1.append(mean(scores))\n",
    "print('>f1 %.4f (%.4f)' % ( mean(scores), std(scores)))"
   ]
  },
  {
   "cell_type": "code",
   "execution_count": 43,
   "id": "c399c985",
   "metadata": {},
   "outputs": [
    {
     "name": "stdout",
     "output_type": "stream",
     "text": [
      "time  3.609375\n",
      "memory (13433043, 37230040)\n",
      ">a 0.9736 (0.0042)\n",
      ">p 0.9837 (0.0043)\n",
      ">r 0.9853 (0.0038)\n",
      ">f1 0.9848 (0.0027)\n"
     ]
    }
   ],
   "source": [
    "from sklearn.ensemble import RandomForestClassifier\n",
    "from sklearn.metrics import precision_recall_fscore_support\n",
    "from sklearn.metrics import accuracy_score, f1_score, precision_score, recall_score, classification_report, confusion_matrix\n",
    "import tracemalloc\n",
    "import os\n",
    "import psutil\n",
    "from sklearn.naive_bayes import GaussianNB\n",
    "from sklearn.ensemble import ExtraTreesClassifier\n",
    "import time\n",
    "from sklearn.svm import SVC \n",
    "from sklearn.ensemble import BaggingClassifier\n",
    "from sklearn import tree \n",
    "from sklearn.ensemble import RandomForestClassifier\n",
    "from sklearn.model_selection import train_test_split\n",
    "from sklearn.metrics import precision_recall_fscore_support\n",
    "from sklearn.linear_model import LogisticRegression\n",
    "test = SelectKBest(score_func=chi2, k=125)\n",
    "fit = test.fit(X, Y)\n",
    "X_f = fit.transform(X)\n",
    "tracemalloc.start()\n",
    "start = time.process_time()\n",
    "model = BaggingClassifier().fit(X_f,Y)\n",
    "print('time ',time.process_time() - start)\n",
    "print('memory',tracemalloc.get_traced_memory())\n",
    "\n",
    "tim.append(time.process_time() - start)\n",
    "mem.append(tracemalloc.get_traced_memory())\n",
    "cv = RepeatedStratifiedKFold(n_splits=10, n_repeats=3, random_state=1)\n",
    "scores = cross_val_score(model, X_f, Y, scoring='accuracy', cv=cv, n_jobs=-1, error_score='raise')\n",
    "acc.append(mean(scores))\n",
    "print('>a %.4f (%.4f)' % ( mean(scores), std(scores)))\n",
    "scores = cross_val_score(model, X_f, Y, scoring='precision', cv=cv, n_jobs=-1, error_score='raise')\n",
    "pre.append(mean(scores))\n",
    "print('>p %.4f (%.4f)' % ( mean(scores), std(scores)))\n",
    "scores = cross_val_score(model, X_f, Y, scoring='recall', cv=cv, n_jobs=-1, error_score='raise')\n",
    "rec.append(mean(scores))\n",
    "print('>r %.4f (%.4f)' % ( mean(scores), std(scores)))\n",
    "scores = cross_val_score(model, X_f, Y, scoring='f1', cv=cv, n_jobs=-1, error_score='raise')\n",
    "f1.append(mean(scores))\n",
    "print('>f1 %.4f (%.4f)' % ( mean(scores), std(scores)))"
   ]
  },
  {
   "cell_type": "code",
   "execution_count": 44,
   "id": "26abd812",
   "metadata": {},
   "outputs": [
    {
     "name": "stdout",
     "output_type": "stream",
     "text": [
      "time  9.890625\n",
      "memory (13924648, 37230040)\n",
      ">a 0.9692 (0.0043)\n",
      ">p 0.9714 (0.0044)\n",
      ">r 0.9928 (0.0025)\n",
      ">f1 0.9820 (0.0025)\n"
     ]
    }
   ],
   "source": [
    "from sklearn.ensemble import GradientBoostingClassifier\n",
    "from sklearn.ensemble import RandomForestClassifier\n",
    "from sklearn.metrics import precision_recall_fscore_support\n",
    "from sklearn.metrics import accuracy_score, f1_score, precision_score, recall_score, classification_report, confusion_matrix\n",
    "import tracemalloc\n",
    "import os\n",
    "import psutil\n",
    "from sklearn.naive_bayes import GaussianNB\n",
    "from sklearn.ensemble import ExtraTreesClassifier\n",
    "import time\n",
    "from sklearn.svm import SVC \n",
    "from sklearn.ensemble import BaggingClassifier\n",
    "from sklearn import tree \n",
    "from sklearn.ensemble import RandomForestClassifier\n",
    "from sklearn.model_selection import train_test_split\n",
    "from sklearn.metrics import precision_recall_fscore_support\n",
    "from sklearn.linear_model import LogisticRegression\n",
    "test = SelectKBest(score_func=chi2, k=125)\n",
    "fit = test.fit(X, Y)\n",
    "X_f = fit.transform(X)\n",
    "tracemalloc.start()\n",
    "start = time.process_time()\n",
    "model = GradientBoostingClassifier().fit(X_f,Y)\n",
    "print('time ',time.process_time() - start)\n",
    "print('memory',tracemalloc.get_traced_memory())\n",
    "\n",
    "tim.append(time.process_time() - start)\n",
    "mem.append(tracemalloc.get_traced_memory())\n",
    "cv = RepeatedStratifiedKFold(n_splits=10, n_repeats=3, random_state=1)\n",
    "scores = cross_val_score(model, X_f, Y, scoring='accuracy', cv=cv, n_jobs=-1, error_score='raise')\n",
    "acc.append(mean(scores))\n",
    "print('>a %.4f (%.4f)' % ( mean(scores), std(scores)))\n",
    "scores = cross_val_score(model, X_f, Y, scoring='precision', cv=cv, n_jobs=-1, error_score='raise')\n",
    "pre.append(mean(scores))\n",
    "print('>p %.4f (%.4f)' % ( mean(scores), std(scores)))\n",
    "scores = cross_val_score(model, X_f, Y, scoring='recall', cv=cv, n_jobs=-1, error_score='raise')\n",
    "rec.append(mean(scores))\n",
    "print('>r %.4f (%.4f)' % ( mean(scores), std(scores)))\n",
    "scores = cross_val_score(model, X_f, Y, scoring='f1', cv=cv, n_jobs=-1, error_score='raise')\n",
    "f1.append(mean(scores))\n",
    "print('>f1 %.4f (%.4f)' % ( mean(scores), std(scores)))"
   ]
  },
  {
   "cell_type": "code",
   "execution_count": 46,
   "id": "8c42c641",
   "metadata": {},
   "outputs": [
    {
     "name": "stdout",
     "output_type": "stream",
     "text": [
      "time  0.0\n",
      "memory (13671945, 37230040)\n",
      ">a 0.9186 (0.0047)\n",
      ">p 0.9364 (0.0044)\n",
      ">r 0.9696 (0.0040)\n",
      ">f1 0.9527 (0.0027)\n"
     ]
    }
   ],
   "source": [
    "from sklearn.neighbors import KNeighborsClassifier\n",
    "from sklearn.ensemble import GradientBoostingClassifier\n",
    "from sklearn.ensemble import RandomForestClassifier\n",
    "from sklearn.metrics import precision_recall_fscore_support\n",
    "from sklearn.metrics import accuracy_score, f1_score, precision_score, recall_score, classification_report, confusion_matrix\n",
    "import tracemalloc\n",
    "import os\n",
    "import psutil\n",
    "from sklearn.naive_bayes import GaussianNB\n",
    "from sklearn.ensemble import ExtraTreesClassifier\n",
    "import time\n",
    "from sklearn.svm import SVC \n",
    "from sklearn.ensemble import BaggingClassifier\n",
    "from sklearn import tree \n",
    "from sklearn.ensemble import RandomForestClassifier\n",
    "from sklearn.model_selection import train_test_split\n",
    "from sklearn.metrics import precision_recall_fscore_support\n",
    "from sklearn.linear_model import LogisticRegression\n",
    "test = SelectKBest(score_func=chi2, k=125)\n",
    "fit = test.fit(X, Y)\n",
    "X_f = fit.transform(X)\n",
    "tracemalloc.start()\n",
    "start = time.process_time()\n",
    "model = KNeighborsClassifier().fit(X_f,Y)\n",
    "print('time ',time.process_time() - start)\n",
    "print('memory',tracemalloc.get_traced_memory())\n",
    "\n",
    "tim.append(time.process_time() - start)\n",
    "mem.append(tracemalloc.get_traced_memory())\n",
    "cv = RepeatedStratifiedKFold(n_splits=10, n_repeats=3, random_state=1)\n",
    "scores = cross_val_score(model, X_f, Y, scoring='accuracy', cv=cv, n_jobs=-1, error_score='raise')\n",
    "acc.append(mean(scores))\n",
    "print('>a %.4f (%.4f)' % ( mean(scores), std(scores)))\n",
    "scores = cross_val_score(model, X_f, Y, scoring='precision', cv=cv, n_jobs=-1, error_score='raise')\n",
    "pre.append(mean(scores))\n",
    "print('>p %.4f (%.4f)' % ( mean(scores), std(scores)))\n",
    "scores = cross_val_score(model, X_f, Y, scoring='recall', cv=cv, n_jobs=-1, error_score='raise')\n",
    "rec.append(mean(scores))\n",
    "print('>r %.4f (%.4f)' % ( mean(scores), std(scores)))\n",
    "scores = cross_val_score(model, X_f, Y, scoring='f1', cv=cv, n_jobs=-1, error_score='raise')\n",
    "f1.append(mean(scores))\n",
    "print('>f1 %.4f (%.4f)' % ( mean(scores), std(scores)))"
   ]
  },
  {
   "cell_type": "code",
   "execution_count": 80,
   "id": "6a718185",
   "metadata": {},
   "outputs": [],
   "source": [
    "acc=[0.980082686223756,0.9756,\n",
    " 0.9777258437217974,\n",
    " 0.862908001348765,\n",
    " 0.8575615869804527,\n",
    " 0.9668331796138169,\n",
    " 0.9004432080767208,0.9733,0.9634,0.9736,0.9692,0.9186 ]\n",
    "#acc"
   ]
  },
  {
   "cell_type": "code",
   "execution_count": null,
   "id": "7ad4e493",
   "metadata": {},
   "outputs": [],
   "source": []
  },
  {
   "cell_type": "code",
   "execution_count": 79,
   "id": "6012060d",
   "metadata": {},
   "outputs": [],
   "source": [
    "pre=[0.9838561501006995,0.9784,\n",
    " 0.981054219573419,\n",
    " 0.9426974749754735,\n",
    " 0.8580625393834619,\n",
    " 0.9784349872093681,\n",
    " 0.915258630315717,0.9764,0.9687,0.9837,0.9714,0.9364]\n",
    "#pre"
   ]
  },
  {
   "cell_type": "code",
   "execution_count": 81,
   "id": "bdb325e5",
   "metadata": {},
   "outputs": [],
   "source": [
    "rec=[0.9919414106111354,0.9934 ,\n",
    " 0.9926896059137212,\n",
    " 0.8922101215613666,\n",
    " 0.9962937998848879,\n",
    " 0.9815361251534255,\n",
    " 0.9723214545757143,0.9915,0.9886,0.9853,0.9928,0.9696]\n",
    "#rec"
   ]
  },
  {
   "cell_type": "code",
   "execution_count": 75,
   "id": "b0861d97",
   "metadata": {},
   "outputs": [
    {
     "data": {
      "text/plain": [
       "14"
      ]
     },
     "execution_count": 75,
     "metadata": {},
     "output_type": "execute_result"
    }
   ],
   "source": [
    "len(rec)"
   ]
  },
  {
   "cell_type": "code",
   "execution_count": 67,
   "id": "50a2d9dc",
   "metadata": {},
   "outputs": [],
   "source": [
    "f1=[0.9878782155255005,0.9857 ,\n",
    " 0.9869215801198996,\n",
    " 0.9165587191753655,\n",
    " 0.9220226852329794,\n",
    " 0.9798868211024274,\n",
    " 0.9429004362267244,0.9845,0.9785,0.9842,0.9820,0.9527]"
   ]
  },
  {
   "cell_type": "code",
   "execution_count": 83,
   "id": "025e2c0c",
   "metadata": {},
   "outputs": [],
   "source": [
    "tim=[2.40625,7.265625, 3.09375, 0.09375, 5.515625, 2.296875, 1.421875,1.984375,2.40625,3.609375,9.890625,0.0]"
   ]
  },
  {
   "cell_type": "code",
   "execution_count": 34,
   "id": "b070c9fe",
   "metadata": {},
   "outputs": [],
   "source": [
    "mem=[(76325, 17529264), (12552200, 30268274),\n",
    " (12285312, 19074825),\n",
    " (12334337, 32130452),\n",
    " (16215137, 36010169),\n",
    " (12931209, 36010169),\n",
    " (24679379, 36010169)]"
   ]
  },
  {
   "cell_type": "code",
   "execution_count": 52,
   "id": "b19cbf5b",
   "metadata": {},
   "outputs": [
    {
     "data": {
      "text/plain": [
       "12"
      ]
     },
     "execution_count": 52,
     "metadata": {},
     "output_type": "execute_result"
    }
   ],
   "source": [
    "len(acc)"
   ]
  },
  {
   "cell_type": "code",
   "execution_count": 60,
   "id": "832e65a9",
   "metadata": {},
   "outputs": [
    {
     "data": {
      "image/png": "[encoded data removed]",
      "text/plain": [
       "<Figure size 432x288 with 1 Axes>"
      ]
     },
     "metadata": {
      "needs_background": "light"
     },
     "output_type": "display_data"
    }
   ],
   "source": [
    "import numpy as np \n",
    "import matplotlib.pyplot as plt \n",
    "import matplotlib.pyplot as plt \n",
    "t = ['Proposed','Shafin et al.(2021)','Random forest','Naive Bayes','SVM','Decision Tree','Logistic Regression','Extra Trees Classifier','AdaBoost','Bagging','GradientBoosting','KNN']\n",
    "x_axis = np.arange(len(t))\n",
    "ind = np.arange(len(t))\n",
    "width = 0.4\n",
    "#acc=[0.9756,0.9785,0.9935,0.9857]\n",
    "plt.bar(ind, acc, width)\n",
    "plt.ylim([0.85,1])\n",
    "#add_value_label(ind,acc) \n",
    "plt.xticks(x_axis, t)\n",
    "plt.xticks(rotation=90)\n",
    "#plt.yticks([0.1,0.2,0.3,0.4,0.5,0.6,0.7,0.8,0.9])\n",
    "# Add legend\n",
    "#plt.xlabel(\"Test size\")\n",
    "plt.ylabel(\"Accuracy\")\n",
    "#plt.legend()\n",
    "plt.title(\"Accuracy\")\n",
    "# Display\n",
    "\n",
    "plt.savefig('paper/Accuracy.png',facecolor=(1, 1, 1),dpi=200,bbox_inches = 'tight')"
   ]
  },
  {
   "cell_type": "code",
   "execution_count": 72,
   "id": "ce7ea2e5",
   "metadata": {},
   "outputs": [
    {
     "data": {
      "image/png": "[encoded data removed]",
      "text/plain": [
       "<Figure size 432x288 with 1 Axes>"
      ]
     },
     "metadata": {
      "needs_background": "light"
     },
     "output_type": "display_data"
    }
   ],
   "source": [
    "import numpy as np \n",
    "import matplotlib.pyplot as plt \n",
    "import matplotlib.pyplot as plt \n",
    "t = ['Proposed','Shafin et al.(2021)','Random forest','Naive Bayes','SVM','Decision Tree','Logistic Regression','Extra Trees Classifier','AdaBoost','Bagging','Gradient Boosting','KNN']\n",
    "x_axis = np.arange(len(t))\n",
    "ind = np.arange(len(t))\n",
    "width = 0.4\n",
    "#acc=[0.9756,0.9785,0.9935,0.9857]\n",
    "plt.bar(ind, pre, width)\n",
    "plt.ylim([0.85,1])\n",
    "#add_value_label(ind,acc) \n",
    "plt.xticks(x_axis, t)\n",
    "plt.xticks(rotation=90)\n",
    "#plt.yticks([0.1,0.2,0.3,0.4,0.5,0.6,0.7,0.8,0.9])\n",
    "# Add legend\n",
    "#plt.xlabel(\"Test size\")\n",
    "plt.ylabel(\"Precision\")\n",
    "#plt.legend()\n",
    "plt.title(\"Precision\")\n",
    "# Display\n",
    "\n",
    "plt.savefig('paper/Precision.png',facecolor=(1, 1, 1),dpi=200,bbox_inches = 'tight')"
   ]
  },
  {
   "cell_type": "code",
   "execution_count": 77,
   "id": "513a9ebd",
   "metadata": {},
   "outputs": [
    {
     "data": {
      "image/png": "[encoded data removed]",
      "text/plain": [
       "<Figure size 432x288 with 1 Axes>"
      ]
     },
     "metadata": {
      "needs_background": "light"
     },
     "output_type": "display_data"
    }
   ],
   "source": [
    "import numpy as np \n",
    "import matplotlib.pyplot as plt \n",
    "import matplotlib.pyplot as plt \n",
    "t = ['Proposed','Shafin et al.(2021)','Random forest','Naive Bayes','SVM','Decision Tree','Logistic Regression','Extra Trees Classifier','AdaBoost','Bagging','Gradient Boosting','KNN']\n",
    "x_axis = np.arange(len(t))\n",
    "ind = np.arange(len(t))\n",
    "width = 0.4\n",
    "#acc=[0.9756,0.9785,0.9935,0.9857]\n",
    "plt.bar(ind,rec, width)\n",
    "plt.ylim([0.85,1])\n",
    "#add_value_label(ind,acc) \n",
    "plt.xticks(x_axis, t)\n",
    "plt.xticks(rotation=90)\n",
    "#plt.yticks([0.1,0.2,0.3,0.4,0.5,0.6,0.7,0.8,0.9])\n",
    "# Add legend\n",
    "#plt.xlabel(\"Test size\")\n",
    "plt.ylabel(\"Recall\")\n",
    "#plt.legend()\n",
    "plt.title(\"Recall\")\n",
    "# Display\n",
    "\n",
    "plt.savefig('paper/Recall.png',facecolor=(1, 1, 1),dpi=200,bbox_inches = 'tight')"
   ]
  },
  {
   "cell_type": "code",
   "execution_count": 74,
   "id": "45800cf8",
   "metadata": {},
   "outputs": [
    {
     "data": {
      "image/png": "[encoded data removed]",
      "text/plain": [
       "<Figure size 432x288 with 1 Axes>"
      ]
     },
     "metadata": {
      "needs_background": "light"
     },
     "output_type": "display_data"
    }
   ],
   "source": [
    "import numpy as np \n",
    "import matplotlib.pyplot as plt \n",
    "import matplotlib.pyplot as plt \n",
    "t = ['Proposed','Shafin et al.(2021)','Random forest','Naive Bayes','SVM','Decision Tree','Logistic Regression','Extra Trees Classifier','AdaBoost','Bagging','Gradient Boosting','KNN']\n",
    "x_axis = np.arange(len(t))\n",
    "ind = np.arange(len(t))\n",
    "width = 0.4\n",
    "#acc=[0.9756,0.9785,0.9935,0.9857]\n",
    "plt.bar(ind,f1, width)\n",
    "plt.ylim([0.85,1])\n",
    "#add_value_label(ind,acc) \n",
    "plt.xticks(x_axis, t)\n",
    "plt.xticks(rotation=90)\n",
    "#plt.yticks([0.1,0.2,0.3,0.4,0.5,0.6,0.7,0.8,0.9])\n",
    "# Add legend\n",
    "#plt.xlabel(\"Test size\")\n",
    "plt.ylabel(\"F1-Score\")\n",
    "#plt.legend()\n",
    "plt.title(\"F1-Score\")\n",
    "# Display\n",
    "\n",
    "plt.savefig('paper/F1-Score.png',facecolor=(1, 1, 1),dpi=200,bbox_inches = 'tight')"
   ]
  },
  {
   "cell_type": "code",
   "execution_count": 85,
   "id": "d4e07e05",
   "metadata": {},
   "outputs": [
    {
     "data": {
      "image/png": "[encoded data removed]",
      "text/plain": [
       "<Figure size 432x288 with 1 Axes>"
      ]
     },
     "metadata": {
      "needs_background": "light"
     },
     "output_type": "display_data"
    }
   ],
   "source": [
    "import numpy as np \n",
    "import matplotlib.pyplot as plt \n",
    "import matplotlib.pyplot as plt \n",
    "t = ['Proposed','Shafin et al.(2021)','Random forest','Naive Bayes','SVM','Decision Tree','Logistic Regression','Extra Trees Classifier','AdaBoost','Bagging','Gradient Boosting','KNN']\n",
    "x_axis = np.arange(len(t))\n",
    "ind = np.arange(len(t))\n",
    "width = 0.4\n",
    "#acc=[0.9756,0.9785,0.9935,0.9857]\n",
    "plt.bar(ind, tim, width)\n",
    "#plt.ylim([0.85,1])\n",
    "#add_value_label(ind,acc) \n",
    "plt.xticks(x_axis, t)\n",
    "plt.xticks(rotation=90)\n",
    "#plt.yticks([0.1,0.2,0.3,0.4,0.5,0.6,0.7,0.8,0.9])\n",
    "# Add legend\n",
    "#plt.xlabel(\"Test size\")\n",
    "plt.ylabel(\"Training time in seconds\")\n",
    "#plt.legend()\n",
    "plt.title(\"Training time in seconds\")\n",
    "# Display\n",
    "\n",
    "plt.savefig('paper/Training time in seconds.png',facecolor=(1, 1, 1),dpi=200,bbox_inches = 'tight')"
   ]
  },
  {
   "cell_type": "code",
   "execution_count": null,
   "id": "c51fc7af",
   "metadata": {},
   "outputs": [],
   "source": []
  },
  {
   "cell_type": "code",
   "execution_count": null,
   "id": "695d4a35",
   "metadata": {},
   "outputs": [],
   "source": []
  },
  {
   "cell_type": "code",
   "execution_count": null,
   "id": "2512b929",
   "metadata": {},
   "outputs": [],
   "source": []
  },
  {
   "cell_type": "code",
   "execution_count": null,
   "id": "6624d0fc",
   "metadata": {},
   "outputs": [],
   "source": []
  },
  {
   "cell_type": "code",
   "execution_count": null,
   "id": "c16c6c80",
   "metadata": {},
   "outputs": [],
   "source": []
  },
  {
   "cell_type": "code",
   "execution_count": null,
   "id": "ab92f64c",
   "metadata": {},
   "outputs": [],
   "source": []
  },
  {
   "cell_type": "code",
   "execution_count": null,
   "id": "a7ded36a",
   "metadata": {},
   "outputs": [],
   "source": []
  },
  {
   "cell_type": "code",
   "execution_count": null,
   "id": "67c1563e",
   "metadata": {},
   "outputs": [],
   "source": []
  },
  {
   "cell_type": "code",
   "execution_count": null,
   "id": "512758f7",
   "metadata": {},
   "outputs": [],
   "source": []
  },
  {
   "cell_type": "code",
   "execution_count": null,
   "id": "9ce25713",
   "metadata": {},
   "outputs": [],
   "source": []
  },
  {
   "cell_type": "code",
   "execution_count": null,
   "id": "97e67322",
   "metadata": {},
   "outputs": [],
   "source": []
  },
  {
   "cell_type": "code",
   "execution_count": null,
   "id": "57790f31",
   "metadata": {},
   "outputs": [],
   "source": []
  },
  {
   "cell_type": "code",
   "execution_count": null,
   "id": "ef7d293d",
   "metadata": {},
   "outputs": [],
   "source": []
  },
  {
   "cell_type": "code",
   "execution_count": null,
   "id": "0d90bc1a",
   "metadata": {},
   "outputs": [],
   "source": []
  }
 ],
 "metadata": {
  "kernelspec": {
   "display_name": "Python 3 (ipykernel)",
   "language": "python",
   "name": "python3"
  },
  "language_info": {
   "codemirror_mode": {
    "name": "ipython",
    "version": 3
   },
   "file_extension": ".py",
   "mimetype": "text/x-python",
   "name": "python",
   "nbconvert_exporter": "python",
   "pygments_lexer": "ipython3",
   "version": "3.7.9"
  }
 },
 "nbformat": 4,
 "nbformat_minor": 5
}
